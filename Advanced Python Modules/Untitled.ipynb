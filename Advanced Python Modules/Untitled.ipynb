{
 "cells": [
  {
   "cell_type": "code",
   "execution_count": 1,
   "id": "7927e31a",
   "metadata": {},
   "outputs": [
    {
     "data": {
      "text/plain": [
       "'/Users/wkbae/Programming/2.Python/Advanced Python Modules'"
      ]
     },
     "execution_count": 1,
     "metadata": {},
     "output_type": "execute_result"
    }
   ],
   "source": [
    "pwd"
   ]
  },
  {
   "cell_type": "code",
   "execution_count": 3,
   "id": "1e734a55",
   "metadata": {},
   "outputs": [],
   "source": [
    "f = open('practice.txt', 'w+')\n",
    "f.write('This is a test string')\n",
    "f.close()"
   ]
  },
  {
   "cell_type": "code",
   "execution_count": 4,
   "id": "b95e779e",
   "metadata": {},
   "outputs": [],
   "source": [
    "import os"
   ]
  },
  {
   "cell_type": "code",
   "execution_count": 5,
   "id": "f81ee972",
   "metadata": {},
   "outputs": [
    {
     "data": {
      "text/plain": [
       "'/Users/wkbae/Programming/2.Python/Advanced Python Modules'"
      ]
     },
     "execution_count": 5,
     "metadata": {},
     "output_type": "execute_result"
    }
   ],
   "source": [
    "os.getcwd()"
   ]
  },
  {
   "cell_type": "code",
   "execution_count": 7,
   "id": "e96a3f49",
   "metadata": {},
   "outputs": [
    {
     "data": {
      "text/plain": [
       "['Deleted Users', '.localized', 'Shared', 'wkbae']"
      ]
     },
     "execution_count": 7,
     "metadata": {},
     "output_type": "execute_result"
    }
   ],
   "source": [
    "os.listdir('/Users')"
   ]
  },
  {
   "cell_type": "code",
   "execution_count": 8,
   "id": "7ca47264",
   "metadata": {},
   "outputs": [],
   "source": [
    "import shutil"
   ]
  },
  {
   "cell_type": "code",
   "execution_count": 9,
   "id": "ba59ede9",
   "metadata": {},
   "outputs": [
    {
     "data": {
      "text/plain": [
       "'/Users/wkbae/Programming/2.Python/practice.txt'"
      ]
     },
     "execution_count": 9,
     "metadata": {},
     "output_type": "execute_result"
    }
   ],
   "source": [
    "shutil.move('practice.txt', '/Users/wkbae/Programming/2.Python')"
   ]
  },
  {
   "cell_type": "code",
   "execution_count": 10,
   "id": "993a50d5",
   "metadata": {},
   "outputs": [
    {
     "data": {
      "text/plain": [
       "['practice_three_dimensional_list.py',\n",
       " 'listRemovalEx.py',\n",
       " 'circleAreaAndCircum.py',\n",
       " 'Python_Study_220719.ipynb',\n",
       " 'useModuleFoo1.py',\n",
       " 'band_name_generator.py',\n",
       " 'instance.py',\n",
       " 'Numpy_Practice',\n",
       " 'vector2d_op.py',\n",
       " 'second_function1.py',\n",
       " 'turtle2.py',\n",
       " 'longStringEx1.py',\n",
       " 'cat_ex2.py',\n",
       " 'circle_ex3.py',\n",
       " 'filter_test.py',\n",
       " 'mile2meter.py',\n",
       " 'formatting3.py',\n",
       " 'practice_pentagram.py',\n",
       " 'comment.py',\n",
       " '.DS_Store',\n",
       " 'PythonDataWorkspace',\n",
       " '100Days_of_Python_Codes_from_Udemy',\n",
       " 'eval_test1.py',\n",
       " 'turtle3.py',\n",
       " 'cat_ex3.py',\n",
       " 'circle_ex2.py',\n",
       " 'raise_ex.py',\n",
       " 'break_test2.py',\n",
       " 'two_dimensional_list_create.py',\n",
       " 'input_variable_ex1.py',\n",
       " 'vortex.py',\n",
       " 'listSum.py',\n",
       " 'forinRangeTest2.py',\n",
       " 'circles.py',\n",
       " 'dist',\n",
       " 'red_hexagon.py',\n",
       " 'numberAndStringj.py',\n",
       " 'all_error.py',\n",
       " 'class_example.py',\n",
       " 'jagged_list_create.py',\n",
       " 'addNum.py',\n",
       " 'getPrimes.py',\n",
       " 'grade2.py',\n",
       " 'two_dimensional_list_for_for_range.py',\n",
       " 'StartCoding_Python',\n",
       " 'moduleFoo.py',\n",
       " 'lamda_example.py',\n",
       " 'iterable_test.py',\n",
       " 'human_ex1.py',\n",
       " 'fizzbuzz.py',\n",
       " 'return_sum_func.py',\n",
       " 'polygon.py',\n",
       " 'ifEx02.py',\n",
       " 'sample.xlsx',\n",
       " 'fruitsDic.py',\n",
       " 'practice.txt',\n",
       " 'input_test1.py',\n",
       " 'file_start.py',\n",
       " 'rsp_input.py',\n",
       " 'repeatWelcomeUsingFor.py',\n",
       " 'string_change.py',\n",
       " '02_01_begin.ipynb',\n",
       " 'block1.py',\n",
       " 'google.py',\n",
       " 'skip_vowel2.py',\n",
       " '__pycache__',\n",
       " 'StartCoding_Python_Automation',\n",
       " 'callback_example.py',\n",
       " 'module1.py',\n",
       " 'error1.py',\n",
       " 'vector2d_error.py',\n",
       " 'grade3.py',\n",
       " 'listAndDic.py',\n",
       " 'filter_map_example.py',\n",
       " 'doubleFor.py',\n",
       " 'lambda_add2.py',\n",
       " 'Test_Python',\n",
       " 'print_sum_func.py',\n",
       " 'find_error.py',\n",
       " 'forInStrEx1.py',\n",
       " 'block2.py',\n",
       " 'list_create.py',\n",
       " 'variable.py',\n",
       " 'Advanced Python Modules',\n",
       " 'try_else_ex.py',\n",
       " 'Interactions between Python Functions.ipynb',\n",
       " 'forIntFriuit.py',\n",
       " '*args and **kwargs in Python.ipynb',\n",
       " 'skip_vowel1.py',\n",
       " 'module2.py',\n",
       " 'divide_ex.py',\n",
       " 'practice.spec',\n",
       " 'secondary_function2.py',\n",
       " 'swapEx.py',\n",
       " 'lambda_add1.py',\n",
       " 'function_documentation_strings.py',\n",
       " 'StartCoding_Python_Advanced',\n",
       " 'numberOperation.py',\n",
       " 'OOP_Part1.ipynb',\n",
       " 'control_flow_for_practice.py',\n",
       " 'makeFunction1.py',\n",
       " 'bmi.py',\n",
       " 'listAppendEx.py',\n",
       " 'secondary_function3.py',\n",
       " 'forinRangeEx1.py',\n",
       " 'type_error_with_try.py',\n",
       " 'example.txt',\n",
       " 'Python_Collections_Module.ipynb',\n",
       " 'human_ex2.py',\n",
       " 'Methods and the Python Documentation.ipynb',\n",
       " 'ifEx01.py',\n",
       " 'practice_list_comprehension.py',\n",
       " 'input_test2.py',\n",
       " '.ipynb_checkpoints',\n",
       " 'conditional3.py',\n",
       " 'Xmas.py',\n",
       " 'rpa_basic',\n",
       " 'eval_test2.py',\n",
       " 'circle_ex1.py',\n",
       " 'chromedriver',\n",
       " 'forInFloat.py',\n",
       " 'build',\n",
       " 'python_for_student',\n",
       " 'formatEx.py',\n",
       " 'main.py',\n",
       " 'two_dimensional_list_while_while.py',\n",
       " 'turtle4.py',\n",
       " 'demo_io.py',\n",
       " 'two_dimensional_list_while.py',\n",
       " 'filter_ex1.py',\n",
       " 'random_ex1.py',\n",
       " 'OOP_Part2.ipynb',\n",
       " 'Pandas-Demo',\n",
       " 'Numpy Study.ipynb',\n",
       " 'function_add.py',\n",
       " 'useModuleFoo2.py',\n",
       " 'function.py',\n",
       " 'grade.py',\n",
       " 'two_dimensional_list_for_for.py',\n",
       " 'Pandas',\n",
       " 'cat_ex1.py',\n",
       " 'turtle1.py',\n",
       " 'forIntList.py',\n",
       " 'listDelEx.py']"
      ]
     },
     "execution_count": 10,
     "metadata": {},
     "output_type": "execute_result"
    }
   ],
   "source": [
    "os.listdir('/Users/wkbae/Programming/2.Python')"
   ]
  },
  {
   "cell_type": "code",
   "execution_count": null,
   "id": "f47cf3cb",
   "metadata": {},
   "outputs": [],
   "source": []
  }
 ],
 "metadata": {
  "kernelspec": {
   "display_name": "Python 3",
   "language": "python",
   "name": "python3"
  },
  "language_info": {
   "codemirror_mode": {
    "name": "ipython",
    "version": 3
   },
   "file_extension": ".py",
   "mimetype": "text/x-python",
   "name": "python",
   "nbconvert_exporter": "python",
   "pygments_lexer": "ipython3",
   "version": "3.8.8"
  }
 },
 "nbformat": 4,
 "nbformat_minor": 5
}
