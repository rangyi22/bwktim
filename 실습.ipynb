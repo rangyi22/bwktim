{
  "nbformat": 4,
  "nbformat_minor": 0,
  "metadata": {
    "colab": {
      "provenance": [],
      "authorship_tag": "ABX9TyPd21la7gAl+hDle9uYwKtU",
      "include_colab_link": true
    },
    "kernelspec": {
      "name": "python3",
      "display_name": "Python 3"
    },
    "language_info": {
      "name": "python"
    }
  },
  "cells": [
    {
      "cell_type": "markdown",
      "metadata": {
        "id": "view-in-github",
        "colab_type": "text"
      },
      "source": [
        "<a href=\"https://colab.research.google.com/github/rangyi22/bwktim/blob/main/%EC%8B%A4%EC%8A%B5.ipynb\" target=\"_parent\"><img src=\"https://colab.research.google.com/assets/colab-badge.svg\" alt=\"Open In Colab\"/></a>"
      ]
    },
    {
      "cell_type": "code",
      "execution_count": 1,
      "metadata": {
        "id": "EfaXlvqrNDip",
        "colab": {
          "base_uri": "https://localhost:8080/"
        },
        "outputId": "f1d7d138-6d5d-4d2b-e6a2-d9b940ff26a7"
      },
      "outputs": [
        {
          "output_type": "stream",
          "name": "stdout",
          "text": [
            "Hello.\n"
          ]
        }
      ],
      "source": [
        "print('Hello.')"
      ]
    },
    {
      "cell_type": "markdown",
      "source": [
        "마크다운 언어를 사용할 수 있다.  \n",
        "줄바꿈\n",
        "\n",
        "코드에 대한 설명, 리포트 내용등을 작성할 수 있다. 라이브 시연등에 유용하다.\n",
        "\n",
        "# 큰제목\n",
        "#### 작은제목\n",
        "\n",
        "- 리스트1\n",
        "- 리스트2\n",
        "---\n",
        "\n",
        "**굵게**  [링크 텍스트](https://www.google.com)  \n",
        "*기울임체*\n",
        "\n",
        "수식 작성이 가능하다. lattex 문법\n",
        "\n",
        "$$ E = mc^2 $$\n"
      ],
      "metadata": {
        "id": "vlOycpkKPY5e"
      }
    },
    {
      "cell_type": "code",
      "source": [],
      "metadata": {
        "id": "TB5Lo1KsRgIe"
      },
      "execution_count": null,
      "outputs": []
    }
  ]
}