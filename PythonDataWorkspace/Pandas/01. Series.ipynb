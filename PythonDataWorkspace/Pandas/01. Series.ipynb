{
 "cells": [
  {
   "cell_type": "markdown",
   "id": "804a02cd",
   "metadata": {},
   "source": [
    "# Pandas\n",
    "Data analysis library used in Python"
   ]
  },
  {
   "cell_type": "code",
   "execution_count": 2,
   "id": "950e8315",
   "metadata": {},
   "outputs": [],
   "source": [
    "import pandas as pd"
   ]
  },
  {
   "cell_type": "markdown",
   "id": "6dd3ce90",
   "metadata": {},
   "source": [
    "# 1. Series\n",
    "1-dimensional data (integer, floats, strings, etc.)"
   ]
  },
  {
   "cell_type": "markdown",
   "id": "285b276b",
   "metadata": {},
   "source": [
    "## Series object creation\n",
    "Ex.) Average temperature data from January to April (-20, -10, 10, 20)"
   ]
  },
  {
   "cell_type": "code",
   "execution_count": 4,
   "id": "4aea6e13",
   "metadata": {},
   "outputs": [
    {
     "data": {
      "text/plain": [
       "0   -20\n",
       "1   -10\n",
       "2    10\n",
       "3    20\n",
       "dtype: int64"
      ]
     },
     "execution_count": 4,
     "metadata": {},
     "output_type": "execute_result"
    }
   ],
   "source": [
    "temp = pd.Series([-20, -10, 10, 20])\n",
    "temp"
   ]
  },
  {
   "cell_type": "code",
   "execution_count": 5,
   "id": "60a9ee4e",
   "metadata": {},
   "outputs": [
    {
     "data": {
      "text/plain": [
       "-20"
      ]
     },
     "execution_count": 5,
     "metadata": {},
     "output_type": "execute_result"
    }
   ],
   "source": [
    "temp[0] # temperature in January"
   ]
  },
  {
   "cell_type": "code",
   "execution_count": 6,
   "id": "5b948c19",
   "metadata": {},
   "outputs": [
    {
     "data": {
      "text/plain": [
       "10"
      ]
     },
     "execution_count": 6,
     "metadata": {},
     "output_type": "execute_result"
    }
   ],
   "source": [
    "temp[2] # temperature in March"
   ]
  },
  {
   "cell_type": "markdown",
   "id": "463ecccc",
   "metadata": {},
   "source": [
    "# Series object creation (indicating index)"
   ]
  },
  {
   "cell_type": "code",
   "execution_count": 7,
   "id": "af319e09",
   "metadata": {
    "scrolled": true
   },
   "outputs": [
    {
     "data": {
      "text/plain": [
       "Jan   -20\n",
       "Feb   -10\n",
       "Mar    10\n",
       "Apr    20\n",
       "dtype: int64"
      ]
     },
     "execution_count": 7,
     "metadata": {},
     "output_type": "execute_result"
    }
   ],
   "source": [
    "temp = pd.Series([-20, -10, 10, 20], index=['Jan', 'Feb', 'Mar', 'Apr'])\n",
    "temp"
   ]
  },
  {
   "cell_type": "code",
   "execution_count": 8,
   "id": "e3834fa9",
   "metadata": {
    "scrolled": true
   },
   "outputs": [
    {
     "data": {
      "text/plain": [
       "-20"
      ]
     },
     "execution_count": 8,
     "metadata": {},
     "output_type": "execute_result"
    }
   ],
   "source": [
    "temp['Jan'] # data output corresonding to index 'Jan'"
   ]
  },
  {
   "cell_type": "code",
   "execution_count": 9,
   "id": "9c4ab0eb",
   "metadata": {
    "scrolled": true
   },
   "outputs": [
    {
     "data": {
      "text/plain": [
       "20"
      ]
     },
     "execution_count": 9,
     "metadata": {},
     "output_type": "execute_result"
    }
   ],
   "source": [
    "temp['Apr'] # data output corresponding to index 'Apr'"
   ]
  },
  {
   "cell_type": "code",
   "execution_count": null,
   "id": "ad7a415d",
   "metadata": {},
   "outputs": [],
   "source": [
    "# temp['Jun'] # Error when accessing to the non-existent index"
   ]
  }
 ],
 "metadata": {
  "kernelspec": {
   "display_name": "Python 3",
   "language": "python",
   "name": "python3"
  },
  "language_info": {
   "codemirror_mode": {
    "name": "ipython",
    "version": 3
   },
   "file_extension": ".py",
   "mimetype": "text/x-python",
   "name": "python",
   "nbconvert_exporter": "python",
   "pygments_lexer": "ipython3",
   "version": "3.8.8"
  }
 },
 "nbformat": 4,
 "nbformat_minor": 5
}
