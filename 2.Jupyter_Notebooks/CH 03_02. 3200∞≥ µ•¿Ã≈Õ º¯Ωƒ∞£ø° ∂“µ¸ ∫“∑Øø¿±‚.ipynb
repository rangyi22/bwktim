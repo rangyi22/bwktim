{
 "cells": [
  {
   "attachments": {},
   "cell_type": "markdown",
   "metadata": {},
   "source": [
    "### 이번 실습에서는 다음 내용들을 배웁니다.\n",
    "\n",
    "\n",
    "- pandas에서 대용량 데이터를 불러올 때 사용할 수 있는 방법들을 배워봅니다.\n",
    "\n",
    "\n",
    "- 대용량 데이터 분석에서 주의해야할 점들을 다룹니다.\n",
    "\n",
    "데이터 링크 : [다운로드](https://drive.google.com/file/d/10Am_lQnYbUhACh_z5HKlN-lBRPgoUAFp/view?usp=share_link)"
   ]
  },
  {
   "cell_type": "code",
   "execution_count": null,
   "metadata": {
    "execution": {
     "iopub.execute_input": "2022-07-15T07:35:59.335001Z",
     "iopub.status.busy": "2022-07-15T07:35:59.334374Z",
     "iopub.status.idle": "2022-07-15T07:35:59.362751Z",
     "shell.execute_reply": "2022-07-15T07:35:59.361803Z",
     "shell.execute_reply.started": "2022-07-15T07:35:59.334922Z"
    }
   },
   "outputs": [],
   "source": [
    "import pandas as pd"
   ]
  },
  {
   "cell_type": "markdown",
   "metadata": {},
   "source": [
    "### Load Transaction data\n",
    "\n",
    "- pandas로 데이터를 읽어온 뒤, 기본적인 데이터를 확인해봅니다."
   ]
  },
  {
   "cell_type": "code",
   "execution_count": null,
   "metadata": {
    "execution": {
     "iopub.execute_input": "2022-07-15T07:36:04.305788Z",
     "iopub.status.busy": "2022-07-15T07:36:04.305346Z",
     "iopub.status.idle": "2022-07-15T07:36:04.314201Z",
     "shell.execute_reply": "2022-07-15T07:36:04.313267Z",
     "shell.execute_reply.started": "2022-07-15T07:36:04.305752Z"
    }
   },
   "outputs": [],
   "source": [
    "# Load data (pandas version)\n",
    "train = pd.read_csv('./data/transactions_train.csv')\n",
    "train"
   ]
  },
  {
   "cell_type": "code",
   "execution_count": null,
   "metadata": {
    "execution": {
     "iopub.execute_input": "2022-07-15T07:36:04.316006Z",
     "iopub.status.busy": "2022-07-15T07:36:04.31538Z",
     "iopub.status.idle": "2022-07-15T07:36:04.328053Z",
     "shell.execute_reply": "2022-07-15T07:36:04.327125Z",
     "shell.execute_reply.started": "2022-07-15T07:36:04.315969Z"
    }
   },
   "outputs": [],
   "source": [
    "# Check memory usage\n",
    "mem_usage = train.memory_usage(deep=True).sum() / 1024 / 1024 / 1024\n",
    "print(f\"Memory Usage : {mem_usage:.4} GiB\")"
   ]
  },
  {
   "cell_type": "markdown",
   "metadata": {},
   "source": [
    "### 데이터를 가져오는 첫번째 방법. parquet\n",
    "\n",
    "- 훨씬 더 데이터를 빠르게 가져올 수 있는 구조인 parquet 파일로 변환합니다."
   ]
  },
  {
   "cell_type": "code",
   "execution_count": null,
   "metadata": {},
   "outputs": [],
   "source": [
    "# parquet로 다시 만들어봅시다.\n"
   ]
  },
  {
   "cell_type": "markdown",
   "metadata": {},
   "source": [
    "### 데이터를 가져오는 두번째 방법. I/O\n",
    "\n",
    "- 데이터를 쪼개서 들고와봅시다."
   ]
  },
  {
   "cell_type": "code",
   "execution_count": null,
   "metadata": {},
   "outputs": [],
   "source": []
  },
  {
   "cell_type": "markdown",
   "metadata": {},
   "source": [
    "### 데이터를 가져오는 세번째 방법. 사용할 데이터만 가져오기\n",
    "\n",
    "- column을 지정해서 들고와 볼까요?"
   ]
  },
  {
   "cell_type": "code",
   "execution_count": null,
   "metadata": {},
   "outputs": [],
   "source": []
  }
 ],
 "metadata": {
  "kernelspec": {
   "display_name": "Python 3.10.5 ('fastcampus')",
   "language": "python",
   "name": "python3"
  },
  "language_info": {
   "codemirror_mode": {
    "name": "ipython",
    "version": 3
   },
   "file_extension": ".py",
   "mimetype": "text/x-python",
   "name": "python",
   "nbconvert_exporter": "python",
   "pygments_lexer": "ipython3",
   "version": "3.10.5"
  },
  "vscode": {
   "interpreter": {
    "hash": "ec0e73bc9db08b8d89387f8f6c8d25ddb5b98c92e4d4d339c361044cb7be0e6a"
   }
  }
 },
 "nbformat": 4,
 "nbformat_minor": 4
}
