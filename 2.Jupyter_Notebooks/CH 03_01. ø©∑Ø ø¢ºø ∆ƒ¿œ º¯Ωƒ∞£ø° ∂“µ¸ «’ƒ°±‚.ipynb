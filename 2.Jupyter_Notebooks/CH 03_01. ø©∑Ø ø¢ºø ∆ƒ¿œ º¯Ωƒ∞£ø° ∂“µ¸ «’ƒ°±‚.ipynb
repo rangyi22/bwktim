{
 "cells": [
  {
   "cell_type": "markdown",
   "metadata": {},
   "source": [
    "## 엑셀 데이터 병합하기"
   ]
  },
  {
   "cell_type": "markdown",
   "metadata": {},
   "source": [
    "- 그런데 여기서 한 가지 큰 문제가 발생합니다.\n",
    "\n",
    "\n",
    "- 모든 OS가 같은 문제가 발생하는데, 일단 chrome에서 자동 다운로드를 진행하면 크롬 기본 지정경로인 \"다운로드\" 폴더에 엑셀파일이 저장됩니다.\n",
    "\n",
    "\n",
    "- 모두 다 같은 이름으로 저장이 되다보니, 번호만 쭉 붙어서 저장이 되는데 이러면 어느 지역파일인지 이름으로 알 수가 없습니다.\n",
    "\n",
    "\n",
    "- 그래서 pandas를 이용하여 특정 \"시/도\"의 크롤링이 끝날때마다 다운로드 폴더에 있는 다운로드된 엑셀파일(.xls)를 불러와서, 이름을 변경합니다.\n",
    "\n",
    "\n",
    "- 이름이 변경되면 일단 다른 \"시/도\"에서 다시 크롤링이 시작되었을 때 기존의 엑셀파일들과 이름이 중복되지 않기 때문에 \"시/도\"별 구분이 가능합니다.\n",
    "\n",
    "\n",
    "- 그 때마다 변경된 이름을 가진 엑셀파일들을 모아서 하나로 저장하면, \"시/도\" 별로 그때그때 취합한 데이터를 저장할 수 있습니다.\n",
    "\n",
    "\n",
    "- 엑셀을 불러오는 파트는 Pandas로 구현하였고, pandas를 통해서 데이터를 합쳐봅니다."
   ]
  },
  {
   "cell_type": "markdown",
   "metadata": {},
   "source": [
    "### 서울시 데이터를 기준으로 테스트 해보기"
   ]
  },
  {
   "cell_type": "markdown",
   "metadata": {},
   "source": [
    "- OS마다 다른 이름으로 엑셀 파일들이 지역구의 개수만큼 저장되어 있습니다. (다운로드 폴더에)\n",
    "\n",
    "\n",
    "- 다운로드 폴더에서 모든 .xls 파일을 가져옵니다. (주의 : 혹시 다운로드 폴더에 이전에 받았던 다른 xls 파일이 없는지 먼저 확인해봅니다.)\n",
    "\n",
    "\n",
    "- 다운로드 받는(받을) 모든 엑셀파일은 이름이 같습니다. 그렇기 때문에 시/도 마다 정리하기 위해서는 시/도 마다 엑셀파일들을 정리해서 규합해야합니다.\n",
    "\n",
    "\n",
    "- 파일이름은 혼동을 피하기 위해서 해당 시/도 이름을 파일에 넣습니다. (여기서는 \"변환대상(시/도).xls\"로 하겠습니다.)\n",
    "\n",
    "\n",
    "- glob 라이브러리를 통해서 파일이름들을 불러오고, os.rename 함수를 통해 파일이름을 변경합니다.\n",
    "\n",
    "\n",
    "- pandas의 read_excel 함수를 통해 모든 엑셀파일들을 불러와서 하나로 합칩니다."
   ]
  },
  {
   "cell_type": "code",
   "execution_count": null,
   "metadata": {},
   "outputs": [],
   "source": [
    "import pandas as pd\n",
    "from glob import glob\n",
    "from tqdm.notebook import tqdm\n",
    "import os\n",
    "\n",
    "# OS마다 차이가 있습니다. 파일 이름을 주의해서 불러옵니다.\n",
    "# glob 함수를 이용해서 엑셀파일 목록을 가져옵니다.\n",
    "stations_files = \n",
    "tmp_raw = []\n",
    "\n",
    "for file_name in stations_files:\n",
    "    new_file_name = \n",
    "    # os.rename 함수를 이용하여 파일이름을 바꿉니다.\n",
    "\n",
    "    # 리스트에 저장.\n",
    "    \n",
    "    \n",
    "# 엑셀 파일을 하나로 합칩니다.\n",
    "station_raw = \n",
    "\n",
    "# 주어진 이름을 가지는 excel 파일을 생성합니다.\n"
   ]
  },
  {
   "cell_type": "markdown",
   "metadata": {},
   "source": [
    "### 이번엔 모든 시/도에 대해서 적용해 봅니다. "
   ]
  },
  {
   "cell_type": "code",
   "execution_count": null,
   "metadata": {},
   "outputs": [],
   "source": [
    "for do in tqdm(do_names):\n",
    "    # 각 지역도 입력.\n",
    "\n",
    "    \n",
    "    # 도마다 구 명단 가져오기.\n",
    "    \n",
    "    \n",
    "    \n",
    "    for gu in tqdm(gu_names):\n",
    "    \n",
    "    \n",
    "    \n",
    "    # 도 단위별 엑셀파일 만들기.\n",
    "    \n",
    "    \n",
    "    "
   ]
  },
  {
   "cell_type": "code",
   "execution_count": null,
   "metadata": {},
   "outputs": [],
   "source": []
  }
 ],
 "metadata": {
  "kernelspec": {
   "display_name": "Python 3 (ipykernel)",
   "language": "python",
   "name": "python3"
  },
  "language_info": {
   "codemirror_mode": {
    "name": "ipython",
    "version": 3
   },
   "file_extension": ".py",
   "mimetype": "text/x-python",
   "name": "python",
   "nbconvert_exporter": "python",
   "pygments_lexer": "ipython3",
   "version": "3.10.5"
  }
 },
 "nbformat": 4,
 "nbformat_minor": 1
}
