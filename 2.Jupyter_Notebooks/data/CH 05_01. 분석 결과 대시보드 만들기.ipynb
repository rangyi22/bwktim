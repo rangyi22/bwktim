{
 "cells": [
  {
   "cell_type": "markdown",
   "id": "68ccf413",
   "metadata": {},
   "source": [
    "### TO-DO\n",
    "\n",
    "- 드롭다운 메뉴를 제작하여, 네이버 랭킹에 따른 리뷰 수와 평점을 출력하게 합니다."
   ]
  },
  {
   "cell_type": "code",
   "execution_count": null,
   "id": "1ed6237a",
   "metadata": {},
   "outputs": [],
   "source": [
    "import dash\n",
    "from dash.dependencies import Input, Output\n",
    "from dash import dcc\n",
    "from dash import html\n",
    "import pandas as pd\n",
    "\n",
    "\n",
    "# dashboard app\n",
    "app = dash.Dash('Naver Shopping Trend',\n",
    "                external_stylesheets=['https://codepen.io/chriddyp/pen/bWLwgP.css'])\n",
    "\n",
    "# app layout-> html 수정.\n",
    "app.layout = html.Div([\n",
    "    dcc.Dropdown(\n",
    "        id='my-dropdown',\n",
    "        options=[\n",
    "            # dropdown 메뉴 만들기!\n",
    "            {'label':'Apple', 'value':'./naver_shopping(애플).xlsx'},\n",
    "            {'label':'Samsung', 'value':'./naver_shopping(삼성전자).xlsx'},\n",
    "            {'label':'Xiaomi', 'value':'./naver_shopping(샤오미).xlsx'}\n",
    "        ],  \n",
    "        value='./naver_shopping(애플).xlsx' # 기본값 세팅하기\n",
    "    ),  \n",
    "    dcc.Graph(id='my-graph')\n",
    "], style={'width': '600'})\n",
    "\n",
    "\n",
    "@app.callback(Output('my-graph', 'figure'), [Input('my-dropdown', 'value')])\n",
    "# dash가 실제로 실행하는 그래프를 update_graph 함수로 정의합니다.\n",
    "def update_graph(selected_dropdown_value):\n",
    "    # 내가 선택한 label에 해당하는 파일 이름\n",
    "    df = pd.read_excel(selected_dropdown_value)\n",
    "    return {\n",
    "        'data': [\n",
    "            # dash가 보여줄 dashboard의 그래프를 dict 형태로 지정합니다.\n",
    "            {'x':df.index,\n",
    "             'y':df[\"리뷰수\"]}\n",
    "        \n",
    "        ],\n",
    "        'layout': {'margin': {'l': 40, 'r': 0, 't': 20, 'b': 30}}\n",
    "    }   \n",
    "\n",
    "# dash app이 실행됩니다.\n",
    "#app.run_server(debug=True, use_reloader=False)\n",
    "app.run_server(host='192.168.0.3', port=3003)"
   ]
  }
 ],
 "metadata": {
  "kernelspec": {
   "display_name": "Python 3 (ipykernel)",
   "language": "python",
   "name": "python3"
  },
  "language_info": {
   "codemirror_mode": {
    "name": "ipython",
    "version": 3
   },
   "file_extension": ".py",
   "mimetype": "text/x-python",
   "name": "python",
   "nbconvert_exporter": "python",
   "pygments_lexer": "ipython3",
   "version": "3.10.5"
  }
 },
 "nbformat": 4,
 "nbformat_minor": 5
}
