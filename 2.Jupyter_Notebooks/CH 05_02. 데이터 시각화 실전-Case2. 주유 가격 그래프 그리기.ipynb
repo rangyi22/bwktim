{
 "cells": [
  {
   "cell_type": "markdown",
   "id": "b90474be",
   "metadata": {},
   "source": [
    "### 이번 실습에서는 다음 내용들을 배웁니다.\n",
    "\n",
    "\n",
    "- seaborn과 앞에서 합친 데이터를 가지고, 주가 데이터의 변화 정도를 시각화해봅니다.\n",
    "\n",
    "\n",
    "- pandas로 전처리하는 방법과 seaborn의 사용법을 익혀봅니다."
   ]
  },
  {
   "cell_type": "code",
   "execution_count": null,
   "id": "c38298c8",
   "metadata": {},
   "outputs": [],
   "source": []
  }
 ],
 "metadata": {
  "kernelspec": {
   "display_name": "Python 3 (ipykernel)",
   "language": "python",
   "name": "python3"
  },
  "language_info": {
   "codemirror_mode": {
    "name": "ipython",
    "version": 3
   },
   "file_extension": ".py",
   "mimetype": "text/x-python",
   "name": "python",
   "nbconvert_exporter": "python",
   "pygments_lexer": "ipython3",
   "version": "3.10.5"
  }
 },
 "nbformat": 4,
 "nbformat_minor": 5
}
