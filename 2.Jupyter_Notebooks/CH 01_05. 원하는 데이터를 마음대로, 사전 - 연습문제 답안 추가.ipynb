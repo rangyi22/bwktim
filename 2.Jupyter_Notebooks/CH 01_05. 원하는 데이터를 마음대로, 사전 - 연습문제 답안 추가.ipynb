{
 "cells": [
  {
   "cell_type": "markdown",
   "metadata": {},
   "source": [
    "### 연습문제. 도서 관리하기 (답안 추가)\n",
    "\n",
    "\n",
    "- 도서관에서 도서 관련 정보를 프로그램에 저장하려고 합니다.\n",
    "\n",
    "\n",
    "- 도서와 관련된 정보는 \"책 제목 / 도서번호 / 도서분류\" 가 있습니다.\n",
    "\n",
    "\n",
    "- 현재 도서는 총 5권이 있습니다. 5권에 해당하는 도서 정보는 다음과 같습니다. (실제 존재하는 도서가 아닌 예제를 위한 가상의 도서입니다)\n",
    "\n",
    "<br>\n",
    "\n",
    "\"기초 파이썬 프로그래밍 | 0011 |프로그래밍/IT\"\n",
    "\n",
    "\"한 번에 배우는 데이터 분석 | 1234 |프로그래밍/IT\"\n",
    "\n",
    "\"40세에 돌아본 인생 | 3014 | 인문교양\"\n",
    "\n",
    "\"집밥 101 | 9744 | 요리\"\n",
    "\n",
    "\"300일로 끝내는 나홀로 세계여행 | 8861 | 여행\"\n",
    "<br>\n",
    "\n",
    "\n",
    "- 다음 두 가지 방식으로 데이터를 관리해보려고 합니다. 각 방식대로 프로그램을 작성해보고 차이점에 대해 생각해보세요.\n",
    "\n",
    "<br>\n",
    "\n",
    "1. 리스트로 관리하기\n",
    "\n",
    "> 도서이름들을 관리하는 name_list\n",
    "\n",
    "> 도서번호들을 관리하는 number_list\n",
    "\n",
    "> 도서분류들은 관리하는 category_list\n",
    "<br>\n",
    "\n",
    "2. 사전으로 관리하기\n",
    "\n",
    "> 0, 1, 2, 3, 4를 key로 하고 value는 각 도서정보(사전)인 사전을 만든다.\n",
    "\n",
    "> 각 도서정보는 \"name\", \"number\", \"category\"를 key로 하고 value는 각 도서의 해당하는 정보를 적는다."
   ]
  },
  {
   "cell_type": "code",
   "execution_count": null,
   "metadata": {},
   "outputs": [],
   "source": [
    "# 1.\n",
    "name_list = [\"기초 파이썬 프로그래밍\", \"한 번에 배우는 데이터 분석\", \"40세에 돌아본 인생\", \"집밥 101\", \"300일로 끝내는 나홀로 세계여행\"]\n",
    "number_list = [\"0011\", \"1234\", \"3014\", \"9744\", \"8861\"]\n",
    "category_list = [\"프로그래밍/IT\", \"프로그래밍/IT\", \"인문교양\", \"요리\", \"여행\"]\n",
    "\n",
    "# 2.\n",
    "library = {\n",
    "    0 : {\"name\" : \"기초 파이썬 프로그래밍\", \"number\" : \"0011\", \"category\" : \"프로그래밍/IT\"},\n",
    "    1 : {\"name\" : \"한 번에 배우는 데이터 분석\", \"number\" : \"1234\", \"category\" : \"프로그래밍/IT\"},\n",
    "    2 : {\"name\" : \"40세에 돌아본 인생\", \"number\" : \"3014\", \"category\" : \"인문교양\"},\n",
    "    3 : {\"name\" : \"집밥 101\", \"number\" : \"9744\", \"category\" : \"요리\"},\n",
    "    4 : {\"name\" : \"300일로 끝내는 나홀로 세계여행\", \"number\" : \"8861\", \"category\" : \"여행\"}\n",
    "    }"
   ]
  }
 ],
 "metadata": {
  "colab": {
   "collapsed_sections": [],
   "name": "Chapter.01 파이썬 프로그래밍-04. Data Type (실습).ipynb",
   "provenance": []
  },
  "kernelspec": {
   "display_name": "Python 3 (ipykernel)",
   "language": "python",
   "name": "python3"
  },
  "language_info": {
   "codemirror_mode": {
    "name": "ipython",
    "version": 3
   },
   "file_extension": ".py",
   "mimetype": "text/x-python",
   "name": "python",
   "nbconvert_exporter": "python",
   "pygments_lexer": "ipython3",
   "version": "3.10.5"
  }
 },
 "nbformat": 4,
 "nbformat_minor": 1
}
