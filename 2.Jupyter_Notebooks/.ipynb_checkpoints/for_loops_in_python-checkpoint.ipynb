{
 "cells": [
  {
   "cell_type": "code",
   "execution_count": 1,
   "id": "af312c69",
   "metadata": {},
   "outputs": [
    {
     "name": "stdout",
     "output_type": "stream",
     "text": [
      "Rolf\n",
      "Jen\n",
      "Anne\n"
     ]
    }
   ],
   "source": [
    "friends = [\"Rolf\", \"Jen\", \"Anne\"]\n",
    "\n",
    "for friend in friends:\n",
    "    print(friend)"
   ]
  },
  {
   "cell_type": "code",
   "execution_count": 5,
   "id": "4c9c1e81",
   "metadata": {},
   "outputs": [
    {
     "name": "stdout",
     "output_type": "stream",
     "text": [
      "Hello, world!\n",
      "Hello, world!\n",
      "Hello, world!\n",
      "Hello, world!\n",
      "Hello, world!\n",
      "Hello, world!\n",
      "Hello, world!\n",
      "Hello, world!\n",
      "Hello, world!\n",
      "Hello, world!\n"
     ]
    }
   ],
   "source": [
    "elements = [0, 1, 2, 3, 4, 5, 6, 7, 8, 9]\n",
    "\n",
    "#for elements in elements:\n",
    "for _ in elements:\n",
    "    #print(index)\n",
    "    print(\"Hello, world!\")\n",
    "    # _: you don't intend on using this variable for anything"
   ]
  },
  {
   "cell_type": "code",
   "execution_count": 8,
   "id": "f7ec376a",
   "metadata": {},
   "outputs": [
    {
     "name": "stdout",
     "output_type": "stream",
     "text": [
      "2\n",
      "5\n",
      "8\n",
      "11\n",
      "14\n",
      "17\n"
     ]
    }
   ],
   "source": [
    "#for index in range(10):\n",
    "#for index in range(5, 10):\n",
    "for index in range(2, 20, 3):\n",
    "    #print(\"Hello, world!\")\n",
    "    print(index)"
   ]
  },
  {
   "cell_type": "code",
   "execution_count": 12,
   "id": "17c7bab1",
   "metadata": {},
   "outputs": [
    {
     "name": "stdout",
     "output_type": "stream",
     "text": [
      "Rolf has a grade of 90.\n",
      "Bob has a grade of 78.\n",
      "Jen has a grade of 100.\n",
      "Anne has a grade of 80.\n"
     ]
    }
   ],
   "source": [
    "students = [\n",
    "    {\"name\": \"Rolf\", \"grade\": 90},\n",
    "    {\"name\": \"Bob\", \"grade\": 78},\n",
    "    {\"name\": \"Jen\", \"grade\": 100},\n",
    "    {\"name\": \"Anne\", \"grade\": 80},\n",
    "]\n",
    "\n",
    "for student in students:\n",
    "    name = student[\"name\"]\n",
    "    grade = student[\"grade\"]\n",
    "    \n",
    "    print(f\"{name} has a grade of {grade}.\")"
   ]
  }
 ],
 "metadata": {
  "kernelspec": {
   "display_name": "Python 3",
   "language": "python",
   "name": "python3"
  },
  "language_info": {
   "codemirror_mode": {
    "name": "ipython",
    "version": 3
   },
   "file_extension": ".py",
   "mimetype": "text/x-python",
   "name": "python",
   "nbconvert_exporter": "python",
   "pygments_lexer": "ipython3",
   "version": "3.8.8"
  }
 },
 "nbformat": 4,
 "nbformat_minor": 5
}
