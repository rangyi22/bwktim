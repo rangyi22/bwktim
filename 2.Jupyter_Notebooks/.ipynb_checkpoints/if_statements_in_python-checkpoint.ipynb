{
 "cells": [
  {
   "cell_type": "code",
   "execution_count": 2,
   "id": "44f3182a",
   "metadata": {},
   "outputs": [
    {
     "name": "stdout",
     "output_type": "stream",
     "text": [
      "Enter your name: Bob\n",
      "This runs anyway.\n"
     ]
    }
   ],
   "source": [
    "friend = \"Rolf\"\n",
    "user_name = input(\"Enter your name: \")\n",
    "\n",
    "if user_name == friend:\n",
    "    print(\"Hello, friend!\")\n",
    "    print(\"This runs too.\")\n",
    "\n",
    "print(\"This runs anyway.\")"
   ]
  },
  {
   "cell_type": "code",
   "execution_count": 5,
   "id": "525a9f35",
   "metadata": {},
   "outputs": [
    {
     "name": "stdout",
     "output_type": "stream",
     "text": [
      "Enter your name: Rolf\n",
      "Hello, friend!\n"
     ]
    }
   ],
   "source": [
    "friend = \"Rolf\"\n",
    "user_name = input(\"Enter your name: \")\n",
    "\n",
    "if user_name == friend:\n",
    "    print(\"Hello, friend!\")\n",
    "\n",
    "else:\n",
    "    print(\"Hello, stranger!\")"
   ]
  },
  {
   "cell_type": "code",
   "execution_count": 6,
   "id": "baf93632",
   "metadata": {},
   "outputs": [
    {
     "name": "stdout",
     "output_type": "stream",
     "text": [
      "True\n"
     ]
    }
   ],
   "source": [
    "print(bool(5))"
   ]
  },
  {
   "cell_type": "code",
   "execution_count": 7,
   "id": "12bee2b6",
   "metadata": {},
   "outputs": [
    {
     "name": "stdout",
     "output_type": "stream",
     "text": [
      "False\n"
     ]
    }
   ],
   "source": [
    "print(bool(0))"
   ]
  },
  {
   "cell_type": "code",
   "execution_count": 8,
   "id": "5ca138f7",
   "metadata": {},
   "outputs": [
    {
     "name": "stdout",
     "output_type": "stream",
     "text": [
      "Runs.\n"
     ]
    }
   ],
   "source": [
    "if 5:\n",
    "    print(\"Runs.\")"
   ]
  },
  {
   "cell_type": "code",
   "execution_count": 11,
   "id": "5b7d3235",
   "metadata": {},
   "outputs": [
    {
     "name": "stdout",
     "output_type": "stream",
     "text": [
      "Enter your name: \n",
      "False\n"
     ]
    }
   ],
   "source": [
    "name = input(\"Enter your name: \")\n",
    "\n",
    "print(bool(name))\n",
    "\n",
    "if name:\n",
    "    print(\"We know your name.\")"
   ]
  },
  {
   "cell_type": "code",
   "execution_count": null,
   "id": "0791c305",
   "metadata": {},
   "outputs": [],
   "source": [
    "# The indentation is the spaces in front fo a line that denotes that this is inside a block"
   ]
  },
  {
   "cell_type": "code",
   "execution_count": 18,
   "id": "812d764a",
   "metadata": {},
   "outputs": [],
   "source": [
    "# Indentation: 4 spaces (generally recommended)"
   ]
  },
  {
   "cell_type": "code",
   "execution_count": 20,
   "id": "ced082e8",
   "metadata": {},
   "outputs": [
    {
     "name": "stdout",
     "output_type": "stream",
     "text": [
      "Password: baerangyi\n",
      "Wrong password.\n"
     ]
    }
   ],
   "source": [
    "# Password Authentication\n",
    "\n",
    "PASSWORD = \"secret1\"\n",
    "\n",
    "user_input = input(\"Password: \")\n",
    "\n",
    "if user_input == PASSWORD:\n",
    "    print(\"Welcome back.\")\n",
    "else:\n",
    "    print(\"Wrong password.\")"
   ]
  }
 ],
 "metadata": {
  "kernelspec": {
   "display_name": "Python 3",
   "language": "python",
   "name": "python3"
  },
  "language_info": {
   "codemirror_mode": {
    "name": "ipython",
    "version": 3
   },
   "file_extension": ".py",
   "mimetype": "text/x-python",
   "name": "python",
   "nbconvert_exporter": "python",
   "pygments_lexer": "ipython3",
   "version": "3.8.8"
  }
 },
 "nbformat": 4,
 "nbformat_minor": 5
}
