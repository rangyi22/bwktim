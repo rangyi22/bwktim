{
 "cells": [
  {
   "cell_type": "markdown",
   "metadata": {},
   "source": [
    "### 이번 실습에서는 다음 내용들을 배웁니다.\n",
    "\n",
    "\n",
    "- 동적 페이지 구조의 웹페이지를 크롤링하는 방법에 대해 배웁니다.\n",
    "\n",
    "\n",
    "- 파이썬에서 selenium을 사용하는 방법에 대해 배웁니다."
   ]
  },
  {
   "cell_type": "markdown",
   "metadata": {},
   "source": [
    "![self_station](./webcrawling/self_station.jpg)"
   ]
  },
  {
   "cell_type": "markdown",
   "metadata": {},
   "source": [
    "- 운전을 하면 필연적으로 기름가격(유가)에 대해 관심을 가질 수 밖에 없습니다.\n",
    "\n",
    "\n",
    "- 특히 서울시내에는 생각보다 주유소가 많지 않고, 교통체증이 심해서 자주 가는 주유소를 많이 방문합니다.\n",
    "\n",
    "\n",
    "- 주유소 중에서 소폭의 가격인하를 하기 위해 알바가 없고 셀프주유를 하는 곳이 많이 생겼습니다.\n",
    "\n",
    "\n",
    "- 과연 셀프 주유소는 가격이 저렴한지 궁금해졌습니다.\n",
    "\n",
    "\n",
    "- 전국 주유소 가격을 제공하는 Opinet에서 크롤링을 통해 전국 주유소 가격을 얻은 뒤, 셀프 주유소의 가격에 대해 분석해봅니다.\n",
    "\n",
    "http://www.opinet.co.kr/user/main/mainView.do"
   ]
  },
  {
   "cell_type": "markdown",
   "metadata": {},
   "source": [
    "## 2.1. Opinet 웹페이지 분석 "
   ]
  },
  {
   "cell_type": "markdown",
   "metadata": {},
   "source": [
    "![opinet](./webcrawling/opinet.png)"
   ]
  },
  {
   "cell_type": "markdown",
   "metadata": {},
   "source": [
    "- Opinet에서 크롤링을 하려고 웹페이지 분석을 합니다.\n",
    "\n",
    "\n",
    "- Opinet은 유가 정보를 동적 웹페이지 환경에서 제공합니다. (말그대로 살아 움직이는 페이지를 동적 웹페이지라고 합니다.)\n",
    "\n",
    "\n",
    "- 왼쪽 navigation tab에서 지역을 설정할 수 있으며, 해당 지역을 \"조회\" 버튼을 눌러 데이터를 웹페이지에 불러온 뒤에 좌측 하단에 있는 \"엑셀저장\" 버튼을 누르면 깔끔하게 정리된 .xls 파일을 다운로드 받을 수 있습니다.\n",
    "\n",
    "\n",
    "- 엑셀저장 기능을 빼고 bs4를 이용해서 왼쪽에 나타낸 데이터를 긁어올 수도 있지만, 이번에는 더 편하게 데이터를 받을 수 있는 엑셀저장을 활용해보겠습니다.\n",
    "\n",
    "\n",
    "- 그런데 여기서 몇 가지 문제가 발생하는데, bs4만으로는 tag를 불러올 수가 없습니다.\n",
    "\n",
    "\n",
    "**1) 지역을 다르게 눌러 조회를 해봐도 URL이 바뀌지 않습니다.**\n",
    "\n",
    "\n",
    "**2) 실제로 bs4를 통해 좌측 데이터를 크롤링해도 긁어와지지 않습니다. (어떠한 방법으로 blocking 해놓은듯 합니다.)**\n",
    "\n",
    "\n",
    "**3) bs4를 이용해서 지역을 바꿔서 설정할 수 없습니다. URL 규칙에 이 부분이 적용되지 않는 동적페이지이기 때문입니다.**"
   ]
  },
  {
   "cell_type": "markdown",
   "metadata": {},
   "source": [
    "### Selenium with Chromedriver"
   ]
  },
  {
   "cell_type": "markdown",
   "metadata": {},
   "source": [
    "- 이와 같은 동적페이지를 제어할 수 있는 라이브러리와 도구가 있습니다.\n",
    "\n",
    "\n",
    "- 그것이 바로 구글에서 만든 Chromedriver와 selenium 입니다."
   ]
  },
  {
   "cell_type": "markdown",
   "metadata": {},
   "source": [
    "https://chromedriver.chromium.org/downloads"
   ]
  },
  {
   "cell_type": "markdown",
   "metadata": {},
   "source": [
    "![chromedriver](./webcrawling/chromedriver.png)"
   ]
  },
  {
   "cell_type": "markdown",
   "metadata": {},
   "source": [
    "- chromedriver는 구글이 ChromeOS를 개발하면서 만든 도구입니다.\n",
    "\n",
    "\n",
    "- 가상의 chrome 환경을 만들어서 프로그램을 통해 web browser를 자동제어할 수 있게 해줍니다.\n",
    "\n",
    "\n",
    "- selenium 같은 라이브러리를 사용하여 제어합니다.\n",
    "\n",
    "\n",
    "- 위의 사이트에서 현재 사용하는 Chrome에 맞는 version을 다운로드 받습니다."
   ]
  },
  {
   "cell_type": "markdown",
   "metadata": {},
   "source": [
    "![selenium](./webcrawling/selenium.png)"
   ]
  },
  {
   "cell_type": "markdown",
   "metadata": {},
   "source": [
    "- selenium은 코드에 의해 제어되는 chromedriver를 사용할 수 있게 해주는 오픈소스 라이브러리입니다."
   ]
  },
  {
   "cell_type": "code",
   "execution_count": null,
   "metadata": {},
   "outputs": [],
   "source": [
    "# selenium을 통해 webdriver를 제어하기 위해서 라이브러리를 불러옵니다.\n",
    "\n",
    "# 동적페이지 크롤링에서는 페이지 로딩을 확인하기 위해서 기다리는 시간이 필요합니다.\n"
   ]
  }
 ],
 "metadata": {
  "kernelspec": {
   "display_name": "Python 3 (ipykernel)",
   "language": "python",
   "name": "python3"
  },
  "language_info": {
   "codemirror_mode": {
    "name": "ipython",
    "version": 3
   },
   "file_extension": ".py",
   "mimetype": "text/x-python",
   "name": "python",
   "nbconvert_exporter": "python",
   "pygments_lexer": "ipython3",
   "version": "3.10.9"
  }
 },
 "nbformat": 4,
 "nbformat_minor": 1
}
