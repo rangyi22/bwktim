{
 "cells": [
  {
   "cell_type": "markdown",
   "metadata": {
    "id": "c52Pi1pmO5bJ"
   },
   "source": [
    "### 이번 실습에서는 다음 내용들을 배웁니다.\n",
    "\n",
    "\n",
    "- 프로그래밍 언어에서는 변수(Variable)에서 데이터를 저장/관리 하며 변수에 대한 개념을 통해 데이터를 사용할 수 있다.\n",
    "> \"변수\" 라는 개념을 통해 데이터를 사용할 수 있다.\n",
    "\n",
    "- 기본적으로 프로그래밍 하는 방법에 대해 배웁니다.\n",
    "\n",
    "\n",
    "\n",
    "- 컴퓨터에서 숫자는 다루는 방법에 대해 배웁니다."
   ]
  },
  {
   "cell_type": "code",
   "execution_count": 5,
   "metadata": {
    "id": "F0s-6hEpO5bK"
   },
   "outputs": [
    {
     "data": {
      "text/plain": [
       "10"
      ]
     },
     "execution_count": 5,
     "metadata": {},
     "output_type": "execute_result"
    }
   ],
   "source": [
    "# 변수 a에 10이라는 정수 데이터를 할당(assign)한다. comment (주석)\n",
    "a = 10 # assignment operator\n",
    "a"
   ]
  },
  {
   "cell_type": "code",
   "execution_count": 6,
   "metadata": {
    "id": "FQdBqboBO5bL"
   },
   "outputs": [
    {
     "data": {
      "text/plain": [
       "4369433104"
      ]
     },
     "execution_count": 6,
     "metadata": {},
     "output_type": "execute_result"
    }
   ],
   "source": [
    "# a라는 변수가 실제 메모리에서 저장되어 있는 위치.(메모리 주소)\n",
    "id(a)"
   ]
  },
  {
   "cell_type": "markdown",
   "metadata": {
    "id": "kUVG00ytO5bM"
   },
   "source": [
    "### 1. 숫자 데이터 (Numeric Data Types)"
   ]
  },
  {
   "cell_type": "markdown",
   "metadata": {
    "id": "hKiQfQ6vO5bM"
   },
   "source": [
    "* 숫자형 데이터란, 정수/실수/복소수/2진수/8진수/16진수를 포함하며 가장 많이 사용하는 데이터 타입중에 하나다.\n",
    "\n",
    "\n",
    "* 파이썬은 숫자의 표현 범위가 무한대이다.\n",
    "\n",
    "\n",
    "* 숫자 데이터는 우리가 알고 있는 대부분의 연산을 그대로 지원한다. 사칙연산, 나머지 구하기, 몫 구하기, 거듭제곱 등"
   ]
  },
  {
   "cell_type": "markdown",
   "metadata": {
    "id": "Ue1a7W_oO5bM"
   },
   "source": [
    "### 정수형 (Integer) -> int"
   ]
  },
  {
   "cell_type": "code",
   "execution_count": 7,
   "metadata": {
    "id": "TghsqPsoO5bN"
   },
   "outputs": [
    {
     "data": {
      "text/plain": [
       "4"
      ]
     },
     "execution_count": 7,
     "metadata": {},
     "output_type": "execute_result"
    }
   ],
   "source": [
    "1 + 1 * 3"
   ]
  },
  {
   "cell_type": "code",
   "execution_count": 13,
   "metadata": {
    "id": "Sf7fiNFdO5bN"
   },
   "outputs": [
    {
     "data": {
      "text/plain": [
       "2.0"
      ]
     },
     "execution_count": 13,
     "metadata": {},
     "output_type": "execute_result"
    }
   ],
   "source": [
    "# a에 10, b에 5를 할당하고, a와 b를 더한 결과를 출력합니다.\n",
    "a = 10\n",
    "b = 5\n",
    "a + b\n",
    "a - b\n",
    "a * b\n",
    "a / b"
   ]
  },
  {
   "cell_type": "markdown",
   "metadata": {
    "id": "VKDvoyIEO5bN"
   },
   "source": [
    "### 실수형 (Floating point) -> float"
   ]
  },
  {
   "cell_type": "code",
   "execution_count": 9,
   "metadata": {
    "id": "toIzlNwyO5bN"
   },
   "outputs": [
    {
     "data": {
      "text/plain": [
       "3.14"
      ]
     },
     "execution_count": 9,
     "metadata": {},
     "output_type": "execute_result"
    }
   ],
   "source": [
    "c = 3.14\n",
    "c"
   ]
  },
  {
   "cell_type": "code",
   "execution_count": 10,
   "metadata": {
    "id": "pSFndmCQO5bN"
   },
   "outputs": [
    {
     "data": {
      "text/plain": [
       "6.28"
      ]
     },
     "execution_count": 10,
     "metadata": {},
     "output_type": "execute_result"
    }
   ],
   "source": [
    "c + 3.14"
   ]
  },
  {
   "cell_type": "code",
   "execution_count": 14,
   "metadata": {
    "id": "gdVHPpLCO5bN"
   },
   "outputs": [
    {
     "data": {
      "text/plain": [
       "-0.8599999999999999"
      ]
     },
     "execution_count": 14,
     "metadata": {},
     "output_type": "execute_result"
    }
   ],
   "source": [
    "# d에 4를 할당하고 c에서 d를 뺀 값을 출력합니다.\n",
    "d = 4\n",
    "c - d # 3.14-4=-0.86 (numeric error)"
   ]
  },
  {
   "cell_type": "code",
   "execution_count": 16,
   "metadata": {
    "id": "IyVfTQeJO5bO"
   },
   "outputs": [
    {
     "data": {
      "text/plain": [
       "0.00134"
      ]
     },
     "execution_count": 16,
     "metadata": {},
     "output_type": "execute_result"
    }
   ],
   "source": [
    "# 1.34 x 10^6을 의미한다.\n",
    "# 1.34 * 10^(-3)\n",
    "e = 1.34e6\n",
    "e2 = 1.34e-3\n",
    "e\n",
    "e2"
   ]
  },
  {
   "cell_type": "markdown",
   "metadata": {
    "id": "mQrRPuROO5bO"
   },
   "source": [
    "### 숫자형 데이터 타입이 제공하는 여러 연산자 "
   ]
  },
  {
   "cell_type": "markdown",
   "metadata": {
    "id": "-zHUSd6nO5bO"
   },
   "source": [
    "#### 사칙연산 "
   ]
  },
  {
   "cell_type": "code",
   "execution_count": 17,
   "metadata": {
    "id": "iPhDG1xdO5bO"
   },
   "outputs": [
    {
     "name": "stdout",
     "output_type": "stream",
     "text": [
      "13\n",
      "7\n",
      "30\n",
      "3.3333333333333335\n"
     ]
    }
   ],
   "source": [
    "# a에 10, b에 3을 할당하고 a와 b의 사칙연산 결과를 출력합니다. 이번에는 출력할때 print 함수를 사용합니다.\n",
    "a = 10\n",
    "b = 3\n",
    "print(a+b)\n",
    "print(a-b)\n",
    "print(a*b)\n",
    "print(a/b)"
   ]
  },
  {
   "cell_type": "markdown",
   "metadata": {
    "id": "fD9S56U5O5bO"
   },
   "source": [
    "#### 특수연산 "
   ]
  },
  {
   "cell_type": "code",
   "execution_count": 18,
   "metadata": {
    "id": "8MH4qvbcO5bO"
   },
   "outputs": [
    {
     "name": "stdout",
     "output_type": "stream",
     "text": [
      "25\n",
      "2\n",
      "1\n"
     ]
    }
   ],
   "source": [
    "c = 5\n",
    "d = 2\n",
    "print(c ** d) # c를 d번 곱한 것. c^d\n",
    "print(c // d) # c를 d로 나눈 몫.\n",
    "print(c % d)  # c를 d로 나눈 나머지."
   ]
  },
  {
   "cell_type": "markdown",
   "metadata": {},
   "source": [
    "### 연습문제.  학점계산기\n",
    "\n",
    "- 영희는 1학기 중간고사의 학점을 알고 싶다.\n",
    "- 영희가 중간고사 때 수강한 과목과 학점은 다음과 같다.\n",
    "\n",
    "| 글쓰기(3) | 미적분학I(3) | 영문법특강(2) | 컴퓨팅사고력(3) |\n",
    "| --- | --- | --- | --- |\n",
    "| A | C | B+ | A+ |\n",
    "\n",
    "- 과목이름 옆 괄호에 있는 숫자는 학점 수이고, 4.5만점 기준으로 성적이 계산된다.\n",
    "> e.g. <b>A+ : 4.5,   A : 4.0,   B+ : 3.5,   B : 3.0,   C+ : 2.5,   C : 2.0,   F : 0</b>\n",
    "\n",
    "- 계산 공식은 다음과 같다.\n",
    "> (3 x A + 3 x C + 2 x B+ + 3 x A+) / (3+3+2+3) = (3 x 4.5 + 3 x 2.0 + 2 x 3.5 + 3 x 4.0) / 11"
   ]
  },
  {
   "cell_type": "code",
   "execution_count": 19,
   "metadata": {},
   "outputs": [
    {
     "data": {
      "text/plain": [
       "3.5"
      ]
     },
     "execution_count": 19,
     "metadata": {},
     "output_type": "execute_result"
    }
   ],
   "source": [
    "# 코드로 풀어봅시다!\n",
    "(3*4.0+3*2.0+2*3.5+3*4.5)/(3+3+2+3)"
   ]
  }
 ],
 "metadata": {
  "colab": {
   "collapsed_sections": [],
   "name": "Chapter.01 파이썬 프로그래밍-04. Data Type (실습).ipynb",
   "provenance": []
  },
  "kernelspec": {
   "display_name": "Python 3 (ipykernel)",
   "language": "python",
   "name": "python3"
  },
  "language_info": {
   "codemirror_mode": {
    "name": "ipython",
    "version": 3
   },
   "file_extension": ".py",
   "mimetype": "text/x-python",
   "name": "python",
   "nbconvert_exporter": "python",
   "pygments_lexer": "ipython3",
   "version": "3.10.9"
  }
 },
 "nbformat": 4,
 "nbformat_minor": 1
}
