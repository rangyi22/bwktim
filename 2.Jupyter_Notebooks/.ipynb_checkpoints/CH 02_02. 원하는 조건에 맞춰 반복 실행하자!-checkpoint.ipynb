{
 "cells": [
  {
   "cell_type": "markdown",
   "metadata": {},
   "source": [
    "### 이번 실습에서는 다음 내용들을 배웁니다.\n",
    "\n",
    "\n",
    "- 조건을 판단하여 프로그램이 명령을 반복 수행할 수 있는 방법에 대해 배웁니다.\n",
    "\n",
    "\n",
    "- 파이썬에서 while을 사용하는 방법에 대해 배웁니다."
   ]
  },
  {
   "cell_type": "markdown",
   "metadata": {
    "id": "mtXkUXvIkInJ"
   },
   "source": [
    "### 1. `while` statement"
   ]
  },
  {
   "cell_type": "markdown",
   "metadata": {
    "id": "ls3vASjdkInK"
   },
   "source": [
    "- while문은 **조건을 만족할 때 까지 반복**한다.\n",
    "\n",
    "\n",
    "- while (조건):\n",
    "       <statement1>\n",
    "       <statement2>\n",
    "       <statement3>\n",
    "           \n",
    "- 조건이 만족하는 동안(while) statement1, 2, 3을 반복한다."
   ]
  },
  {
   "cell_type": "markdown",
   "metadata": {
    "id": "TIWjnK1VkInK"
   },
   "source": [
    "#### 구구단을 통해 연습해봅시다!"
   ]
  },
  {
   "cell_type": "code",
   "execution_count": 4,
   "metadata": {
    "id": "vI78_M1ekInK"
   },
   "outputs": [
    {
     "name": "stdout",
     "output_type": "stream",
     "text": [
      "2 x 1 = 2\n",
      "2 x 2 = 4\n",
      "2 x 3 = 6\n",
      "2 x 4 = 8\n",
      "2 x 5 = 10\n",
      "2 x 6 = 12\n",
      "2 x 7 = 14\n",
      "2 x 8 = 16\n",
      "2 x 9 = 18\n"
     ]
    }
   ],
   "source": [
    "# 2단을 while문으로 구현해봅시다.\n",
    "'''\n",
    "i = 1\n",
    "while i < 10:\n",
    "    print(f\"2 x {i} = {2*i}\")\n",
    "    i = i + 1\n",
    "'''\n",
    "# TO-DO: i=0을 건드리지 않고, 2단이 출력되게 해보기\n",
    "i = 0\n",
    "while i < 9:\n",
    "    print(f\"2 x {i+1} = {2*(i+1)}\")\n",
    "    i = i + 1"
   ]
  },
  {
   "cell_type": "markdown",
   "metadata": {
    "id": "cW2Gd6X6kInL"
   },
   "source": [
    "#### 실제 자판기 기계는 돈을 한번 넣고 종료되지 않는다. 자판기 기계(프로그램)이 종료되는 경우는 커피가 다 떨어졌을 때이다.\n",
    "\n",
    "> Q. 커피가 다 질때까지 자판기 프로그램을 반복하면서 실행한 뒤, 돈을 입력받아서 커피를 주는 프로그램을 작성해보자."
   ]
  },
  {
   "cell_type": "code",
   "execution_count": 5,
   "metadata": {
    "id": "zqLVUh-JkInM"
   },
   "outputs": [
    {
     "name": "stdout",
     "output_type": "stream",
     "text": [
      "금액을 입력해주세요 : 300\n",
      "Coffee\n",
      "금액을 입력해주세요 : 150\n",
      "150원을 돌려줍니다.\n",
      "금액을 입력해주세요 : 700\n",
      "Coffee\n",
      "400원을 돌려줍니다.\n",
      "금액을 입력해주세요 : 1000\n",
      "Coffee\n",
      "700원을 돌려줍니다.\n",
      "금액을 입력해주세요 : 500\n",
      "Coffee\n",
      "200원을 돌려줍니다.\n",
      "금액을 입력해주세요 : 150\n",
      "150원을 돌려줍니다.\n",
      "금액을 입력해주세요 : 300\n",
      "Coffee\n",
      "커피가 모두 소진되었으니, 관리자에게 문의해주세요.\n"
     ]
    }
   ],
   "source": [
    "# 자판기의 커피 수량\n",
    "coffee = 5\n",
    "\n",
    "# 커피가 남아있는 동안 작동!\n",
    "\n",
    "while coffee > 0:\n",
    "    # 실제로는 자판기를 통해서 넣은 금액.\n",
    "    money = int(input(\"금액을 입력해주세요 : \"))\n",
    "    \n",
    "    if money == 300:\n",
    "        print(\"Coffee\")\n",
    "        coffee = coffee - 1\n",
    "    \n",
    "    elif money < 300:\n",
    "        print(\"%d원을 돌려줍니다.\" % money)\n",
    "        \n",
    "    else:\n",
    "        print(\"Coffee\")\n",
    "        coffee -= 1\n",
    "        print(\"%d원을 돌려줍니다.\" % (money-300))\n",
    "        \n",
    "    # 커피가 다 떨어진 경우 알려야한다.\n",
    "print(\"커피가 모두 소진되었으니, 관리자에게 문의해주세요.\")"
   ]
  },
  {
   "cell_type": "markdown",
   "metadata": {
    "id": "jVZVPTTekInQ"
   },
   "source": [
    "#### 반복문을 제어하는 break, continue"
   ]
  },
  {
   "cell_type": "markdown",
   "metadata": {
    "id": "Oq5cn5HRkInQ"
   },
   "source": [
    "- 만약 반복문을 수행하다가 더 이상 반복이 필요없는 경우에는 어떻게 해야할까?\n",
    "\n",
    "> **break statement**\n",
    "\n",
    "- 만약 반복문을 수행하다가 특정 조건에만 건너뛰고 싶은 경우에는 어떻게 해야할까?\n",
    "\n",
    "> **continue statement**"
   ]
  },
  {
   "cell_type": "markdown",
   "metadata": {
    "id": "O9XXQ4lvkInQ"
   },
   "source": [
    "#### RE : 실제 자판기 기계는 돈을 한번 넣고 종료되지 않는다. 자판기 기계(프로그램)이 종료되는 경우는 커피가 다 떨어졌을 때이다.\n",
    "\n",
    "> Q. 만약에 사용자가 돈이 아닌 다른걸 넣었을 때는 어떻게 해야할까? 제대로 된 숫자 입력을 받을 때까지 반복해서 요청을 하려면?"
   ]
  },
  {
   "cell_type": "code",
   "execution_count": 7,
   "metadata": {
    "id": "IbK1uE_-kInQ"
   },
   "outputs": [
    {
     "name": "stdout",
     "output_type": "stream",
     "text": [
      "금액을 입력하세요.300\n",
      "Coffee\n",
      "금액을 입력하세요.나무가지\n",
      "돈을 입력해주세요.\n",
      "금액을 입력하세요.500\n",
      "Coffee\n",
      "200원을 반환합니다.\n",
      "금액을 입력하세요.나무가지\n",
      "돈을 입력해주세요.\n",
      "금액을 입력하세요.150\n",
      "150원을 반환합니다.\n",
      "금액을 입력하세요.300\n",
      "Coffee\n",
      "금액을 입력하세요.500\n",
      "Coffee\n",
      "200원을 반환합니다.\n",
      "금액을 입력하세요.1000\n",
      "Coffee\n",
      "700원을 반환합니다.\n",
      "커피가 모두 소진되었으니, 관리자에게 문의해주세요.\n"
     ]
    }
   ],
   "source": [
    "# 자판기의 커피 수량\n",
    "coffee = 5\n",
    "\n",
    "while coffee > 0:\n",
    "    \n",
    "    # 실제로는 자판기를 통해서 넣은 금액.\n",
    "    try: # 시도해보고,\n",
    "        money = int(input(\"금액을 입력하세요.\"))\n",
    "    except: #안되면 (error 발생)\n",
    "        print(\"돈을 입력해주세요.\")\n",
    "        continue\n",
    "    \n",
    "    if money == 300:\n",
    "        # 실제로 이 파트는 자판기에서 커피를 뽑는 명령으로 대체된다.\n",
    "        print(\"Coffee\")\n",
    "        # 이제 커피를 하나씩 줄인다.\n",
    "        coffee = coffee - 1\n",
    "\n",
    "    elif money < 300:\n",
    "        # 실제로 이 파트는 돈을 반환한다.\n",
    "        print(\"%d원을 반환합니다.\" % money)\n",
    "     \n",
    "    else: # or elif money > 300:\n",
    "        print(\"Coffee\")\n",
    "        # 커피를 뽑아주고\n",
    "        coffee = coffee - 1\n",
    "        # 이제 커피를 하나씩 줄인다.\n",
    "        print(\"%d원을 반환합니다.\" % (money-300))\n",
    "        # 거스름돈을 돌려준다.\n",
    "        \n",
    "        \n",
    "    # 커피가 다 떨어진 경우 알려야한다.\n",
    "print(\"커피가 모두 소진되었으니, 관리자에게 문의해주세요.\")"
   ]
  },
  {
   "cell_type": "code",
   "execution_count": null,
   "metadata": {
    "id": "qybRJqu1kInR"
   },
   "outputs": [],
   "source": []
  }
 ],
 "metadata": {
  "colab": {
   "collapsed_sections": [],
   "name": "Chapter.01 파이썬 프로그래밍-08. for, while (실습).ipynb",
   "provenance": []
  },
  "kernelspec": {
   "display_name": "Python 3 (ipykernel)",
   "language": "python",
   "name": "python3"
  },
  "language_info": {
   "codemirror_mode": {
    "name": "ipython",
    "version": 3
   },
   "file_extension": ".py",
   "mimetype": "text/x-python",
   "name": "python",
   "nbconvert_exporter": "python",
   "pygments_lexer": "ipython3",
   "version": "3.10.9"
  }
 },
 "nbformat": 4,
 "nbformat_minor": 1
}
