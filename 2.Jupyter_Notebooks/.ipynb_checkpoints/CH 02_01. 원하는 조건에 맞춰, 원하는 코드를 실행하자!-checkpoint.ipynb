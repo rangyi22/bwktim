{
 "cells": [
  {
   "cell_type": "markdown",
   "metadata": {
    "id": "Es1-Z2qdUi3u"
   },
   "source": [
    "## If statement (조건문)"
   ]
  },
  {
   "cell_type": "markdown",
   "metadata": {
    "id": "Hsk1YRFMUi3u"
   },
   "source": [
    "### 이번 실습에서는 다음 내용들을 배웁니다.\n",
    "\n",
    "\n",
    "- 조건을 판단하여 프로그램이 다른 명령을 수행할 수 있는 방법에 대해 배웁니다.\n",
    "\n",
    "\n",
    "- 파이썬에서 if를 사용하는 방법에 대해 배웁니다."
   ]
  },
  {
   "cell_type": "code",
   "execution_count": 6,
   "metadata": {
    "id": "xzKBABrIUi3v"
   },
   "outputs": [
    {
     "name": "stdout",
     "output_type": "stream",
     "text": [
      "3.14\n"
     ]
    }
   ],
   "source": [
    "a = 7\n",
    "# a가 5인데, a가 5와 같으면, True를 출력하고 싶다.\n",
    "if a == 5:\n",
    "    print(True)\n",
    "    print(\"1\")\n",
    "    \n",
    "print(3.14)"
   ]
  },
  {
   "cell_type": "markdown",
   "metadata": {
    "id": "Pzwrwqv3Ui3w"
   },
   "source": [
    "> 조건문을 사용하기 위해선, 비교연산과 논리연산을 알아야 한다."
   ]
  },
  {
   "cell_type": "code",
   "execution_count": 8,
   "metadata": {
    "id": "hXV39i8KUi3w"
   },
   "outputs": [
    {
     "data": {
      "text/plain": [
       "False"
      ]
     },
     "execution_count": 8,
     "metadata": {},
     "output_type": "execute_result"
    }
   ],
   "source": [
    "# 같다, 같지 않다, 크다, 작다, 크거나 같다, 작거나 같다\n",
    "b = 1\n",
    "a == b\n",
    "a != b\n",
    "a > b\n",
    "a < b\n",
    "a >= b\n",
    "a <= b"
   ]
  },
  {
   "cell_type": "code",
   "execution_count": 20,
   "metadata": {
    "id": "R1JySrQyUi3x"
   },
   "outputs": [
    {
     "ename": "NameError",
     "evalue": "name 'A' is not defined",
     "output_type": "error",
     "traceback": [
      "\u001b[0;31m---------------------------------------------------------------------------\u001b[0m",
      "\u001b[0;31mNameError\u001b[0m                                 Traceback (most recent call last)",
      "Cell \u001b[0;32mIn[20], line 2\u001b[0m\n\u001b[1;32m      1\u001b[0m \u001b[38;5;66;03m# e.g. (a % 15 == 0) and (a % 60 != 0)\u001b[39;00m\n\u001b[0;32m----> 2\u001b[0m \u001b[43mA\u001b[49m \u001b[38;5;129;01mand\u001b[39;00m B \u001b[38;5;66;03m# A와 B 둘다 만족해야 True\u001b[39;00m\n\u001b[1;32m      3\u001b[0m A \u001b[38;5;129;01mor\u001b[39;00m B \u001b[38;5;66;03m# A량 B 둘 중에 하나만 만족해도 True\u001b[39;00m\n\u001b[1;32m      4\u001b[0m \u001b[38;5;129;01mnot\u001b[39;00m A\n",
      "\u001b[0;31mNameError\u001b[0m: name 'A' is not defined"
     ]
    }
   ],
   "source": [
    "# e.g. (a % 15 == 0) and (a % 60 != 0)\n",
    "A and B # A와 B 둘다 만족해야 True\n",
    "A or B # A량 B 둘 중에 하나만 만족해도 True\n",
    "not A # A가 아닌 거"
   ]
  },
  {
   "cell_type": "markdown",
   "metadata": {
    "id": "dEkOoiCbUi3x"
   },
   "source": [
    "> 비교연산과 논리연산의 공통점은 결과가 참(True) 또는 거짓(False)라는 것이다."
   ]
  },
  {
   "cell_type": "markdown",
   "metadata": {
    "id": "ObfTcWwhUi3x"
   },
   "source": [
    "#### 자판기를 만들어보자."
   ]
  },
  {
   "cell_type": "markdown",
   "metadata": {
    "id": "dVQXP68aUi3x"
   },
   "source": [
    "> **자판기에 들어갈 프로그램을 만들어야 한다.** 자판기에 입력된 돈이 300원이면 커피를 주고, 300원보다 적은 경우엔 돈을 그냥 돌려주고, 300원보다 많은 경우에는 커피와 함께 거스름돈을 주어야 한다. 이를 어떻게 구현할 수 있을까?"
   ]
  },
  {
   "cell_type": "code",
   "execution_count": 10,
   "metadata": {
    "id": "6F0CsTxgUi3x"
   },
   "outputs": [
    {
     "name": "stdout",
     "output_type": "stream",
     "text": [
      "Coffee\n"
     ]
    }
   ],
   "source": [
    "money = 300\n",
    "# 돈이 300원인데, 돈이 300원이랑 같으면 coffee를 준다.\n",
    "if money == 300:\n",
    "    print(\"Coffee\")"
   ]
  },
  {
   "cell_type": "code",
   "execution_count": 11,
   "metadata": {
    "id": "cxuFUyqYUi3y"
   },
   "outputs": [
    {
     "name": "stdout",
     "output_type": "stream",
     "text": [
      "거스름돈 200원을 돌려줍니다.\n"
     ]
    }
   ],
   "source": [
    "money = 200\n",
    "# 돈이 200원 있다. 그러면 어떻게 해야할까?\n",
    "if money < 300:\n",
    "    print(f\"거스름돈 {money}원을 돌려줍니다.\")"
   ]
  },
  {
   "cell_type": "code",
   "execution_count": 12,
   "metadata": {
    "id": "k6V0Tk29Ui3y"
   },
   "outputs": [
    {
     "name": "stdout",
     "output_type": "stream",
     "text": [
      "Coffee\n",
      "거스름돈 700원을 돌려줍니다.\n"
     ]
    }
   ],
   "source": [
    "money = 1000\n",
    "# 돈이 1000원이 있는 경우에는?\n",
    "if money > 300:\n",
    "    print(\"Coffee\")\n",
    "    print(f\"거스름돈 {money-300}원을 돌려줍니다.\")"
   ]
  },
  {
   "cell_type": "markdown",
   "metadata": {
    "id": "yqWtTRVLUi3y"
   },
   "source": [
    "#### 자판기 코드 다시 생각해보기\n",
    "\n",
    "> if문에는 if가 아닌 경우에 해당하는 조건을 체크할 수 있는 elif(else if) 구문이 있다.\n",
    "\n",
    "> 모든 if, elif 조건에 체크되지 않는 나머지 경우를 처리하는 else 구문도 있다.\n",
    "\n",
    "**이를 자판기 예제에 다시 적용해보자.**"
   ]
  },
  {
   "cell_type": "code",
   "execution_count": 16,
   "metadata": {
    "id": "hOfIxc0QUi3y"
   },
   "outputs": [
    {
     "name": "stdout",
     "output_type": "stream",
     "text": [
      "거스름돈 150원을 돌려줍니다.\n"
     ]
    }
   ],
   "source": [
    "money = 150\n",
    "if money == 300:\n",
    "    print(\"Coffee\")\n",
    "elif money < 300:\n",
    "    print(f\"거스름돈 {money}원을 돌려줍니다.\")\n",
    "else:\n",
    "    print(\"Coffee\")\n",
    "    print(f\"거스름돈 {money-300}원을 돌려줍니다.\")"
   ]
  },
  {
   "cell_type": "markdown",
   "metadata": {
    "id": "w0IIbaoBUi3y"
   },
   "source": [
    "#### if-elif-else 말고 nested 구조를 이용해 작성해보자. "
   ]
  },
  {
   "cell_type": "code",
   "execution_count": 19,
   "metadata": {
    "id": "mkwWeE7mUi3y"
   },
   "outputs": [
    {
     "name": "stdout",
     "output_type": "stream",
     "text": [
      "거스름돈 200원을 돌려줍니다.\n"
     ]
    }
   ],
   "source": [
    "money = 200\n",
    "if money == 300:\n",
    "    print(\"Coffee\")\n",
    "else:\n",
    "    if money < 300:\n",
    "        print(f\"거스름돈 {money}원을 돌려줍니다.\")\n",
    "    else:\n",
    "        print(\"Coffee\")\n",
    "        print(f\"거스름돈 {money-300}원을 돌려줍니다.\")"
   ]
  },
  {
   "cell_type": "code",
   "execution_count": null,
   "metadata": {},
   "outputs": [],
   "source": []
  }
 ],
 "metadata": {
  "colab": {
   "collapsed_sections": [],
   "name": "Chapter.01 파이썬 프로그래밍-06. IF (실습).ipynb",
   "provenance": []
  },
  "kernelspec": {
   "display_name": "Python 3 (ipykernel)",
   "language": "python",
   "name": "python3"
  },
  "language_info": {
   "codemirror_mode": {
    "name": "ipython",
    "version": 3
   },
   "file_extension": ".py",
   "mimetype": "text/x-python",
   "name": "python",
   "nbconvert_exporter": "python",
   "pygments_lexer": "ipython3",
   "version": "3.10.9"
  }
 },
 "nbformat": 4,
 "nbformat_minor": 1
}
