{
 "cells": [
  {
   "cell_type": "code",
   "execution_count": 5,
   "id": "d9e46ed3",
   "metadata": {},
   "outputs": [
    {
     "name": "stdout",
     "output_type": "stream",
     "text": [
      "You're learning!\n",
      "Are you still learning? yes\n",
      "You're learning!\n",
      "Are you still learning? Yes\n"
     ]
    }
   ],
   "source": [
    "is_learning = True\n",
    "\n",
    "while is_learning:\n",
    "    print(\"You're learning!\")\n",
    "    user_input = input(\"Are you still learning? \")\n",
    "    is_learning = user_input == \"yes\""
   ]
  },
  {
   "cell_type": "code",
   "execution_count": 7,
   "id": "04338524",
   "metadata": {},
   "outputs": [
    {
     "name": "stdout",
     "output_type": "stream",
     "text": [
      "Do you wish to run the program? (yes/no): yes\n",
      "We're running!\n",
      "Do you wish to run the program? (yes/no):yes\n",
      "We're running!\n",
      "Do you wish to run the program? (yes/no):no\n",
      "We stopped running.\n"
     ]
    }
   ],
   "source": [
    "user_input = input(\"Do you wish to run the program? (yes/no): \")\n",
    "\n",
    "while user_input == \"yes\":\n",
    "    print(\"We're running!\")\n",
    "    user_input = input(\"Do you wish to run the program? (yes/no):\")\n",
    "\n",
    "print(\"We stopped running.\")"
   ]
  },
  {
   "cell_type": "code",
   "execution_count": 8,
   "id": "ac53672a",
   "metadata": {},
   "outputs": [],
   "source": [
    "# Example: a simple text menu"
   ]
  },
  {
   "cell_type": "code",
   "execution_count": 9,
   "id": "c37682bf",
   "metadata": {},
   "outputs": [
    {
     "name": "stdout",
     "output_type": "stream",
     "text": [
      "Enter q or p: p\n",
      "Hello\n",
      "Enter q or p: p\n",
      "Hello\n",
      "Enter q or p: q\n"
     ]
    }
   ],
   "source": [
    "# Ask the user to choose one of two options\n",
    "# if they type 'p', our program should print \"Hello\" and then ask the user again. Keep repeating\n",
    "# if they type 'q', our program terminates.\n",
    "\n",
    "# Let's begin by asking the user to type either 'p' or 'q'\n",
    "user_input = input(\"Enter q or p: \")\n",
    "\n",
    "# Now we must repeat until they type 'q':\n",
    "while user_input != 'q':\n",
    "    # Inside our loop, check if they typed 'p'. If they did, print \"Hello\"\n",
    "    if user_input  == \"p\":\n",
    "        print(\"Hello\")\n",
    "    # Now we must ask the user for ther input again - otherwise we would be in an infinite loop!\n",
    "    user_input = input(\"Enter q or p: \")\n"
   ]
  }
 ],
 "metadata": {
  "kernelspec": {
   "display_name": "Python 3",
   "language": "python",
   "name": "python3"
  },
  "language_info": {
   "codemirror_mode": {
    "name": "ipython",
    "version": 3
   },
   "file_extension": ".py",
   "mimetype": "text/x-python",
   "name": "python",
   "nbconvert_exporter": "python",
   "pygments_lexer": "ipython3",
   "version": "3.8.8"
  }
 },
 "nbformat": 4,
 "nbformat_minor": 5
}
