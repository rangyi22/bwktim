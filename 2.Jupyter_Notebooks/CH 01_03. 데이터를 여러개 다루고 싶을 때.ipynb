{
 "cells": [
  {
   "cell_type": "markdown",
   "metadata": {
    "id": "c52Pi1pmO5bJ"
   },
   "source": [
    "### 이번 실습에서는 다음 내용들을 배웁니다.\n",
    "\n",
    "\n",
    "- 여러 데이터를 다루는 방법에 대해 배웁니다.\n",
    "\n",
    "\n",
    "- 리스트와 튜플에 차이에 대해 배웁니다."
   ]
  },
  {
   "cell_type": "markdown",
   "metadata": {
    "id": "LW2RBteKO5bR"
   },
   "source": [
    "### 3. 연속형 데이터 (Sequential Data Types)"
   ]
  },
  {
   "cell_type": "markdown",
   "metadata": {
    "id": "JkNakEHMO5bR"
   },
   "source": [
    "**Q. 숫자 100개를 한번에 다루려고 한다. <=> 하나의 변수에 숫자 100개를 저장하고 싶다. 어떻게 해야할까?**\n",
    "\n",
    "*A. 연속형 데이터 타입을 사용하자!*"
   ]
  },
  {
   "cell_type": "markdown",
   "metadata": {
    "id": "7559HElfO5bR"
   },
   "source": [
    "* 연속형 데이터란, 하나의 변수가 하나의 데이터를 가지고 있던 숫자형 데이터와 달리, 여러개의 데이터를 하나의 변수에 가지고 있는 데이터 타입이다.\n",
    "\n",
    "\n",
    "* 연속형 데이터 타입에는 리스트(List), 튜플(Tuple), 문자열(String)이 있다. (문자열을 문자들의 나열로 인식하기 때문에, 연속형 데이터이다.)\n",
    "\n",
    "\n",
    "* 연속형 데이터의 크기 제한은 없다. 하지만, 사용하는 컴퓨터의 가용 메모리 용량을 인지하며 사용해야 한다.\n",
    "\n",
    "\n",
    "* 각 연속형 데이터 타입마다 특징이 다르다. 그 특징을 파악하여 용도에 맞는 데이터 타입을 사용하는 것이 중요하다."
   ]
  },
  {
   "cell_type": "markdown",
   "metadata": {
    "id": "os-yL_BHO5bR"
   },
   "source": [
    "### 3.1 리스트(List)\n",
    "\n",
    "\n",
    "* 가장 많이 사용되는 연속형 데이터 타입이자, 굉장히 유연한 구조를 가지고 있어 대부분의 데이터를 편하게 다룰 수 있다.\n",
    "\n",
    "\n",
    "* 파이썬에서 <kbd>[</kbd> 와 <kbd>]</kbd>를 이용하여 표현한다. e.g. [1, 2, 3]\n",
    "\n",
    "\n",
    "* 리스트의 원소는 쉼표로 구분되며, 리스트의 원소는 아무 데이터 타입이나 가능하다. 리스트조차 가능하다.\n",
    "\n",
    "\n",
    "* 리스트를 이용하면 파이썬에서 다루는 대부분의 데이터는 아무 무리없이 다룰 수 있다. 하지만 수정이 자유롭기 때문에 수정을 하면 안되는 경우에는 사용하면 안된다."
   ]
  },
  {
   "cell_type": "markdown",
   "metadata": {
    "id": "ABKeTlLYO5bR"
   },
   "source": [
    "### 리스트를 만드는 방법"
   ]
  },
  {
   "cell_type": "code",
   "execution_count": 2,
   "metadata": {
    "id": "UrivpymQO5bR"
   },
   "outputs": [
    {
     "data": {
      "text/plain": [
       "list"
      ]
     },
     "execution_count": 2,
     "metadata": {},
     "output_type": "execute_result"
    }
   ],
   "source": [
    "# 정수 1, 2, 3을 원소로 가지는 리스트를 만듭니다.\n",
    "L = [1, 2, 3]\n",
    "type(L)"
   ]
  },
  {
   "cell_type": "code",
   "execution_count": 3,
   "metadata": {
    "id": "73Rij4JPO5bS"
   },
   "outputs": [
    {
     "data": {
      "text/plain": [
       "[1, 3.14, [1, 2], 'hello']"
      ]
     },
     "execution_count": 3,
     "metadata": {},
     "output_type": "execute_result"
    }
   ],
   "source": [
    "# 리스트에는 다양한 타입의 원소를 다 포함할 수 있다. 심지어 리스트도.\n",
    "L2 = [1, 3.14, [1, 2], 'hello']\n",
    "L2"
   ]
  },
  {
   "cell_type": "markdown",
   "metadata": {
    "id": "blBldhftO5bT"
   },
   "source": [
    "### Indexing (***) "
   ]
  },
  {
   "cell_type": "markdown",
   "metadata": {
    "id": "_hHSZLpAO5bT"
   },
   "source": [
    "- 연속형 데이터들은 하나의 변수에 여러가지 데이터를 가지기 때문에 여러 데이터를 접근하는 방법이 필요하다.\n",
    "\n",
    "\n",
    "- 이를 위해 indexing이라는 기법이 있다. 말그대로 index를 통해 접근(access)하는 방법이다.\n",
    "\n",
    "\n",
    "- 리스트의 index는 맨 앞부터 0으로 시작하며, 1씩 증가하는 정수 index를 사용한다.\n",
    "\n",
    "\n",
    "e.g. [1, 2, 3]이면 첫번째 원소는 index가 0이고, 두번째 원소는 index가 1이다.\n",
    "\n",
    "\n",
    "- 파이썬에서는 음수 index도 제공하는데, 이는 뒤쪽부터 접근할 수 있는 방법이다.\n",
    "\n",
    "e.g. [1, 2, 3]이면 뒤에서 첫번째(맨 마지막)원소는 index가 -1이고, 뒤에서 두번째 원소는 index가 -2이다.\n",
    "\n",
    "\n",
    "- index를 통해 접근하는 방법은 해당 변수이름에 []를 사용하며, []안에 index를 넣어서 접근할 수 있다.\n",
    "\n",
    "\n",
    "e.g L = [1, 2, 3]이면 L[0]은 1이고, L[2]는 L[-1]이며 3이다."
   ]
  },
  {
   "cell_type": "code",
   "execution_count": 4,
   "metadata": {
    "id": "FzFTyiA-O5bT"
   },
   "outputs": [
    {
     "data": {
      "text/plain": [
       "[1, 2, 3, 4, 5]"
      ]
     },
     "execution_count": 4,
     "metadata": {},
     "output_type": "execute_result"
    }
   ],
   "source": [
    "L = [1, 2, 3, 4, 5]\n",
    "L"
   ]
  },
  {
   "cell_type": "code",
   "execution_count": 5,
   "metadata": {
    "id": "gxSrbcxNO5bT"
   },
   "outputs": [
    {
     "data": {
      "text/plain": [
       "1"
      ]
     },
     "execution_count": 5,
     "metadata": {},
     "output_type": "execute_result"
    }
   ],
   "source": [
    "# L의 첫번째 원소\n",
    "L[0]"
   ]
  },
  {
   "cell_type": "code",
   "execution_count": 6,
   "metadata": {
    "id": "S_byuPKsO5bT"
   },
   "outputs": [
    {
     "data": {
      "text/plain": [
       "5"
      ]
     },
     "execution_count": 6,
     "metadata": {},
     "output_type": "execute_result"
    }
   ],
   "source": [
    "# L의 5번째 원소\n",
    "L[4]"
   ]
  },
  {
   "cell_type": "code",
   "execution_count": 7,
   "metadata": {
    "id": "Z8TT0FtLO5bT"
   },
   "outputs": [
    {
     "ename": "IndexError",
     "evalue": "list index out of range",
     "output_type": "error",
     "traceback": [
      "\u001b[0;31m---------------------------------------------------------------------------\u001b[0m",
      "\u001b[0;31mIndexError\u001b[0m                                Traceback (most recent call last)",
      "Cell \u001b[0;32mIn[7], line 2\u001b[0m\n\u001b[1;32m      1\u001b[0m \u001b[38;5;66;03m# L에 없는 index는?\u001b[39;00m\n\u001b[0;32m----> 2\u001b[0m \u001b[43mL\u001b[49m\u001b[43m[\u001b[49m\u001b[38;5;241;43m10\u001b[39;49m\u001b[43m]\u001b[49m\n",
      "\u001b[0;31mIndexError\u001b[0m: list index out of range"
     ]
    }
   ],
   "source": [
    "# L에 없는 index는?\n",
    "L[10]"
   ]
  },
  {
   "cell_type": "code",
   "execution_count": 9,
   "metadata": {
    "id": "BvO2El9CO5bT"
   },
   "outputs": [
    {
     "data": {
      "text/plain": [
       "3"
      ]
     },
     "execution_count": 9,
     "metadata": {},
     "output_type": "execute_result"
    }
   ],
   "source": [
    "# L의 마지막 원소\n",
    "#L[-1]\n",
    "L[-3]"
   ]
  },
  {
   "cell_type": "code",
   "execution_count": 10,
   "metadata": {
    "id": "378XiRuQO5bT"
   },
   "outputs": [
    {
     "data": {
      "text/plain": [
       "3"
      ]
     },
     "execution_count": 10,
     "metadata": {},
     "output_type": "execute_result"
    }
   ],
   "source": [
    "# indexing을 이용한 연산. L의 첫번째, 두번째 원소를 가져다가 더해봅니다.\n",
    "L[0] + L[1] # 1 + 2"
   ]
  },
  {
   "cell_type": "code",
   "execution_count": 11,
   "metadata": {
    "id": "szdUnWKnO5bT"
   },
   "outputs": [
    {
     "data": {
      "text/plain": [
       "[1, [2, 3], 5]"
      ]
     },
     "execution_count": 11,
     "metadata": {},
     "output_type": "execute_result"
    }
   ],
   "source": [
    "L2 = [1, [2, 3], 5]\n",
    "L2"
   ]
  },
  {
   "cell_type": "code",
   "execution_count": 13,
   "metadata": {
    "id": "GbxxU3woO5bT"
   },
   "outputs": [
    {
     "data": {
      "text/plain": [
       "2"
      ]
     },
     "execution_count": 13,
     "metadata": {},
     "output_type": "execute_result"
    }
   ],
   "source": [
    "# L2에서 2에 접근하기 위해 indexing을 해보자.\n",
    "#L2[1]\n",
    "L2[1][0]"
   ]
  },
  {
   "cell_type": "markdown",
   "metadata": {
    "id": "3_ZBWbikO5bT"
   },
   "source": [
    "### Slicing (**) "
   ]
  },
  {
   "cell_type": "markdown",
   "metadata": {
    "id": "PZlc4UUBO5bT"
   },
   "source": [
    "**슬라이싱은 리스트에서 뿐만 아니라, 리스트와 비슷한 구조인 numpy array와 pandas series, dataframe에서도 많이 이용되니 꼭 알아두어야 한다.**\n",
    "\n",
    "- 슬라이싱은 리스트의 일부분만 잘라낸다는 의미이다. (말그대로 슬라이싱)\n",
    "\n",
    "\n",
    "- 리스트의 일부만 사용하고 싶을 때 쓰는 기법이며, indexing을 범위로 하는 느낌이다.\n",
    "\n",
    "\n",
    "- 리스트의 index와 <kbd>:</kbd>를 사용하여 슬라이싱을 할 수 있다.\n",
    "\n",
    "\n",
    "e.g. L = [1, 2, 3, 4]  L[0:2]는 [1, 2]이다."
   ]
  },
  {
   "cell_type": "code",
   "execution_count": 14,
   "metadata": {
    "id": "1OqHz12HO5bT"
   },
   "outputs": [
    {
     "data": {
      "text/plain": [
       "[1, 2, 3, 4, 5]"
      ]
     },
     "execution_count": 14,
     "metadata": {},
     "output_type": "execute_result"
    }
   ],
   "source": [
    "L = [1, 2, 3, 4, 5]\n",
    "L"
   ]
  },
  {
   "cell_type": "code",
   "execution_count": 16,
   "metadata": {
    "id": "MS2pl9GrO5bT"
   },
   "outputs": [
    {
     "data": {
      "text/plain": [
       "[1, 2]"
      ]
     },
     "execution_count": 16,
     "metadata": {},
     "output_type": "execute_result"
    }
   ],
   "source": [
    "# L의 첫번째부터 index2 까지 자르기\n",
    "L[0:2]"
   ]
  },
  {
   "cell_type": "code",
   "execution_count": 31,
   "metadata": {
    "id": "FEkmWBVQO5bT"
   },
   "outputs": [
    {
     "data": {
      "text/plain": [
       "[2, 3]"
      ]
     },
     "execution_count": 31,
     "metadata": {},
     "output_type": "execute_result"
    }
   ],
   "source": [
    "# L의 두번째부터 index4 까지 자르기\n",
    "L[1:4]"
   ]
  },
  {
   "cell_type": "code",
   "execution_count": 18,
   "metadata": {
    "id": "OzHC7KSFO5bT"
   },
   "outputs": [
    {
     "data": {
      "text/plain": [
       "[1, 2, 3]"
      ]
     },
     "execution_count": 18,
     "metadata": {},
     "output_type": "execute_result"
    }
   ],
   "source": [
    "# 시작 index를 생략하면, 자동으로 index는 0이 된다. (맨 처음)\n",
    "L[:3]"
   ]
  },
  {
   "cell_type": "code",
   "execution_count": 23,
   "metadata": {
    "id": "3tf90G_bO5bT"
   },
   "outputs": [
    {
     "data": {
      "text/plain": [
       "[2, 3, 4, 5]"
      ]
     },
     "execution_count": 23,
     "metadata": {},
     "output_type": "execute_result"
    }
   ],
   "source": [
    "# 끝 index를 생략하면, 자동으로 index는(리스트의 길이)가 된다.\n",
    "L[1:len(L)]"
   ]
  },
  {
   "cell_type": "code",
   "execution_count": 25,
   "metadata": {},
   "outputs": [
    {
     "data": {
      "text/plain": [
       "'el'"
      ]
     },
     "execution_count": 25,
     "metadata": {},
     "output_type": "execute_result"
    }
   ],
   "source": [
    "# 리스트의 Indexing, slicing은 다른 sequence data type에도 동일하게 적용됩니다.\n",
    "s = \"hello\"\n",
    "s[1:3]"
   ]
  },
  {
   "cell_type": "markdown",
   "metadata": {
    "id": "ig4oHs4aO5bT"
   },
   "source": [
    "> **TIP!**\n",
    "> 문자열도 연속형 데이터 타입이기 때문에, indexing과 slicing이 다 된다. 하나의 문자열을 생성하여 연습해보자."
   ]
  },
  {
   "cell_type": "markdown",
   "metadata": {
    "id": "gQ0RnQTyO5bT"
   },
   "source": [
    "### 리스트 연산하기 "
   ]
  },
  {
   "cell_type": "markdown",
   "metadata": {
    "id": "LHdtLz6NO5bT"
   },
   "source": [
    "> 문자열때와 마찬가지로, 리스트도 더하기, 곱하기 연산이 존재한다. 어떤 의미일지 생각해보자."
   ]
  },
  {
   "cell_type": "markdown",
   "metadata": {
    "id": "1CtZ_VBtO5bT"
   },
   "source": [
    "#### 리스트 더하기 "
   ]
  },
  {
   "cell_type": "code",
   "execution_count": 29,
   "metadata": {
    "id": "Equgw2ZSO5bU"
   },
   "outputs": [
    {
     "data": {
      "text/plain": [
       "[4, 5, 1, 2, 3]"
      ]
     },
     "execution_count": 29,
     "metadata": {},
     "output_type": "execute_result"
    }
   ],
   "source": [
    "L = [1, 2, 3]\n",
    "L2 = [4, 5]\n",
    "L + L2 # concatenation\n",
    "L2 + L"
   ]
  },
  {
   "cell_type": "markdown",
   "metadata": {
    "id": "UARWRpFYO5bU"
   },
   "source": [
    "#### 리스트 곱하기 "
   ]
  },
  {
   "cell_type": "code",
   "execution_count": 30,
   "metadata": {
    "id": "lZ11YpNDO5bU"
   },
   "outputs": [
    {
     "data": {
      "text/plain": [
       "[1, 2, 3, 1, 2, 3, 1, 2, 3]"
      ]
     },
     "execution_count": 30,
     "metadata": {},
     "output_type": "execute_result"
    }
   ],
   "source": [
    "L * 3"
   ]
  },
  {
   "cell_type": "markdown",
   "metadata": {
    "id": "nVrcWi-5O5bU"
   },
   "source": [
    "#### 리스트 수정하기 "
   ]
  },
  {
   "cell_type": "code",
   "execution_count": 32,
   "metadata": {
    "id": "f_K76xFOO5bU"
   },
   "outputs": [
    {
     "data": {
      "text/plain": [
       "[7, 5]"
      ]
     },
     "execution_count": 32,
     "metadata": {},
     "output_type": "execute_result"
    }
   ],
   "source": [
    "# L2의 첫번째 원소를 7로 변경.\n",
    "L2[0] = 7\n",
    "L2"
   ]
  },
  {
   "cell_type": "markdown",
   "metadata": {
    "id": "2HLcrOrWO5bU"
   },
   "source": [
    "## 리스트 관련 함수"
   ]
  },
  {
   "cell_type": "markdown",
   "metadata": {
    "id": "MXnDClEoO5bU"
   },
   "source": [
    "#### 리스트에 원소 추가하기 append() (***)"
   ]
  },
  {
   "cell_type": "code",
   "execution_count": 34,
   "metadata": {
    "id": "I_rcj11JO5bU"
   },
   "outputs": [
    {
     "data": {
      "text/plain": [
       "[3, 2, 1]"
      ]
     },
     "execution_count": 34,
     "metadata": {},
     "output_type": "execute_result"
    }
   ],
   "source": [
    "# 빈 리스트 L을 만들어서 3, 2, 1 순서대로 원소를 추가해봅니다.\n",
    "L = []\n",
    "L.append(3)\n",
    "L.append(2)\n",
    "L.append(1)\n",
    "L"
   ]
  },
  {
   "cell_type": "markdown",
   "metadata": {},
   "source": [
    "#### 리스트 원소 추가하기 insert()"
   ]
  },
  {
   "cell_type": "code",
   "execution_count": 35,
   "metadata": {},
   "outputs": [
    {
     "data": {
      "text/plain": [
       "[4, 3, 'a', 'b', 16]"
      ]
     },
     "execution_count": 35,
     "metadata": {},
     "output_type": "execute_result"
    }
   ],
   "source": [
    "L = [4, 3, 16]\n",
    "L.insert(2, 'a')\n",
    "L.insert(3, 'b')\n",
    "L"
   ]
  },
  {
   "cell_type": "markdown",
   "metadata": {
    "id": "zwULKLqFO5bU"
   },
   "source": [
    "#### 리스트 원소 정렬하기 sort() "
   ]
  },
  {
   "cell_type": "code",
   "execution_count": 37,
   "metadata": {
    "id": "N-wHarP8O5bU"
   },
   "outputs": [
    {
     "data": {
      "text/plain": [
       "[16, 4, 3]"
      ]
     },
     "execution_count": 37,
     "metadata": {},
     "output_type": "execute_result"
    }
   ],
   "source": [
    "# sort()를 이용해 L을 정렬합니다.\n",
    "L = [4, 3, 16]\n",
    "L.sort(reverse=True) #내림 차순 정렬\n",
    "L"
   ]
  },
  {
   "cell_type": "markdown",
   "metadata": {},
   "source": [
    "#### 리스트 특정 원소 제거하기 remove()"
   ]
  },
  {
   "cell_type": "code",
   "execution_count": 39,
   "metadata": {},
   "outputs": [
    {
     "data": {
      "text/plain": [
       "[1, 5, 6, 12, -3, 56]"
      ]
     },
     "execution_count": 39,
     "metadata": {},
     "output_type": "execute_result"
    }
   ],
   "source": [
    "L = [1, 5, 6, 's', 12, -3, 56]\n",
    "L.remove('s')\n",
    "L"
   ]
  },
  {
   "cell_type": "markdown",
   "metadata": {
    "id": "4zmtphdYO5bU"
   },
   "source": [
    "#### 리스트에서 특정 원소 제거하기 pop()"
   ]
  },
  {
   "cell_type": "code",
   "execution_count": 40,
   "metadata": {
    "id": "i9PKvfpXO5bU"
   },
   "outputs": [
    {
     "data": {
      "text/plain": [
       "[1, 5, 6, 12, -3, 56]"
      ]
     },
     "execution_count": 40,
     "metadata": {},
     "output_type": "execute_result"
    }
   ],
   "source": [
    "L = [1, 5, 6, 's', 12, -3, 56]\n",
    "L.pop(3)\n",
    "L"
   ]
  },
  {
   "cell_type": "markdown",
   "metadata": {
    "id": "C4AL1DPGO5bU"
   },
   "source": [
    "### 3.2 튜플(Tuple)\n",
    "\n",
    "- tuple은 list과 거의 같다.\n",
    "> indexing, slicing 모두 동일하게 사용 가능하다.\n",
    "> 원소들도 자유롭게 사용 가능하다.\n",
    "\n",
    "- 거의 같은데, 다른 점이 딱 2가지 있다.\n",
    "\n",
    "\n",
    "\n",
    "\n",
    "**1) 리스트는 []를 사용하고, 튜플은 ()을 사용한다.**\n",
    "\n",
    "**2) 리스트는 생성 후에 변경이 가능하고(mutable) 튜플은 생성 후에 변경이 불가능하다.(immutable)**\n",
    "\n",
    "> Mutable : 생성된 이후에 변경(assignment)이 자유롭게 가능한 data type.\n",
    "e.g. List, dict, set\n",
    "\n",
    "> immutable : 생성된 이후에 변경이 불가능한 data type\n",
    "e.g. int, float, string, tuple, frozenset\n",
    "\n",
    "\n",
    "> 1. 성능적인 이슈 -> 변경되지는 않는 그 자체로 장점이 생김.\n",
    "\n",
    "> 2. 프로그래밍적인 이슈 -> 데이터 수정 자체를 하지 않는 경우 실수를 방지할 수 있다."
   ]
  },
  {
   "cell_type": "code",
   "execution_count": 41,
   "metadata": {
    "id": "wBWB8hI-O5bU"
   },
   "outputs": [
    {
     "data": {
      "text/plain": [
       "(1, 2)"
      ]
     },
     "execution_count": 41,
     "metadata": {},
     "output_type": "execute_result"
    }
   ],
   "source": [
    "# 1, 2를 원소로 가지는 tuple을 생성해 봅니다.\n",
    "t = (1, 2)\n",
    "t"
   ]
  },
  {
   "cell_type": "code",
   "execution_count": 44,
   "metadata": {
    "id": "eBCuxcQwO5bU"
   },
   "outputs": [
    {
     "data": {
      "text/plain": [
       "('a', 'b', ('a', 'b'), 3.14, 5)"
      ]
     },
     "execution_count": 44,
     "metadata": {},
     "output_type": "execute_result"
    }
   ],
   "source": [
    "t2 = ('a', 'b', ('a', 'b'), 3.14, 5)\n",
    "t2"
   ]
  },
  {
   "cell_type": "code",
   "execution_count": 45,
   "metadata": {
    "id": "8O_SAM9GO5bU"
   },
   "outputs": [
    {
     "data": {
      "text/plain": [
       "('b', ('a', 'b'), 3.14)"
      ]
     },
     "execution_count": 45,
     "metadata": {},
     "output_type": "execute_result"
    }
   ],
   "source": [
    "# indexing, slicing 같습니다.\n",
    "t2[1:4]"
   ]
  },
  {
   "cell_type": "code",
   "execution_count": 46,
   "metadata": {
    "id": "jsJjxFqAO5bU"
   },
   "outputs": [
    {
     "ename": "TypeError",
     "evalue": "'tuple' object does not support item assignment",
     "output_type": "error",
     "traceback": [
      "\u001b[0;31m---------------------------------------------------------------------------\u001b[0m",
      "\u001b[0;31mTypeError\u001b[0m                                 Traceback (most recent call last)",
      "Cell \u001b[0;32mIn[46], line 2\u001b[0m\n\u001b[1;32m      1\u001b[0m \u001b[38;5;66;03m### [WARNING]\u001b[39;00m\n\u001b[0;32m----> 2\u001b[0m t[\u001b[38;5;241m0\u001b[39m] \u001b[38;5;241m=\u001b[39m \u001b[38;5;241m3\u001b[39m\n",
      "\u001b[0;31mTypeError\u001b[0m: 'tuple' object does not support item assignment"
     ]
    }
   ],
   "source": [
    "### [WARNING]\n",
    "t[0] = 3 # 튜플의 원소를 변경해보자. # update"
   ]
  },
  {
   "cell_type": "code",
   "execution_count": 47,
   "metadata": {
    "id": "mVCdo2QZO5bV"
   },
   "outputs": [
    {
     "data": {
      "text/plain": [
       "(1, 2, 3, 4)"
      ]
     },
     "execution_count": 47,
     "metadata": {},
     "output_type": "execute_result"
    }
   ],
   "source": [
    "# 그럼 tuple의 더하기, 곱하기는 어떻게 될까?\n",
    "t = (1, 2)\n",
    "t2 = (3, 4)\n",
    "t + t2 # concatenation"
   ]
  },
  {
   "cell_type": "markdown",
   "metadata": {},
   "source": [
    "### 연습문제. 호텔 예약 관리하기\n",
    "\n",
    "- \"book\" 리스트에는 고객들이 예약한 방 번호가 순차적으로 기록됩니다.\n",
    "\n",
    "- 만약에 고객이 예약을 취소한 경우에 해당 방 번호는 리스트에서 제거됩니다.\n",
    "\n",
    "- 현재 예약된 방 번호는 [103, 205, 405] 입니다.\n",
    "\n",
    "- 어제 새롭게 예약된 방 번호가 107, 203, 304, 507 일 때의 예약 목록을 출력하는 코드를 작성해보세요.\n",
    "\n",
    "- 오늘 205호, 304호를 예약한 손님이 예약을 취소하였을 때의 예약 목록을 출력하는 코드를 작성해보세요."
   ]
  },
  {
   "cell_type": "code",
   "execution_count": 48,
   "metadata": {},
   "outputs": [
    {
     "data": {
      "text/plain": [
       "[103, 205, 405, 107, 203, 304, 507]"
      ]
     },
     "execution_count": 48,
     "metadata": {},
     "output_type": "execute_result"
    }
   ],
   "source": [
    "## 코드로 구현해봅시다.\n",
    "book = [103, 205, 405]\n",
    "book.append(107)\n",
    "book.append(203)\n",
    "book.append(304)\n",
    "book.append(507)\n",
    "book"
   ]
  },
  {
   "cell_type": "code",
   "execution_count": 49,
   "metadata": {},
   "outputs": [
    {
     "data": {
      "text/plain": [
       "[103, 405, 107, 203, 507]"
      ]
     },
     "execution_count": 49,
     "metadata": {},
     "output_type": "execute_result"
    }
   ],
   "source": [
    "book.remove(205)\n",
    "book.remove(304)\n",
    "book"
   ]
  }
 ],
 "metadata": {
  "colab": {
   "collapsed_sections": [],
   "name": "Chapter.01 파이썬 프로그래밍-04. Data Type (실습).ipynb",
   "provenance": []
  },
  "kernelspec": {
   "display_name": "Python 3 (ipykernel)",
   "language": "python",
   "name": "python3"
  },
  "language_info": {
   "codemirror_mode": {
    "name": "ipython",
    "version": 3
   },
   "file_extension": ".py",
   "mimetype": "text/x-python",
   "name": "python",
   "nbconvert_exporter": "python",
   "pygments_lexer": "ipython3",
   "version": "3.10.9"
  }
 },
 "nbformat": 4,
 "nbformat_minor": 1
}
