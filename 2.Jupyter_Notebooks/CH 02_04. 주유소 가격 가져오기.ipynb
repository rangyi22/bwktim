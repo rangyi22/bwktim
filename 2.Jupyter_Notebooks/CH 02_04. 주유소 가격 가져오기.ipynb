{
 "cells": [
  {
   "cell_type": "markdown",
   "metadata": {},
   "source": [
    "### 이번 실습에서는 다음 내용들을 배웁니다.\n",
    "\n",
    "\n",
    "- selenium을 이용하여 실제 opinet 데이터를 자동으로 가져오는 웹크롤러를 만들어봅니다."
   ]
  },
  {
   "cell_type": "markdown",
   "metadata": {
    "collapsed": true
   },
   "source": [
    "## 2.2. 전국 지역별 유가 정보 얻기"
   ]
  },
  {
   "cell_type": "markdown",
   "metadata": {},
   "source": [
    "- selenium을 사용할 때 해야되는 기본적인 함수가 2가지 있습니다.\n",
    "\n",
    "\n",
    "- webdriver.Chrome()과 driver.get() 입니다.\n",
    "\n",
    "\n",
    "- webdriver.Chrome()은 실제 chromedriver가 존재하는 위치에서 chromedriver를 실행할 수 있게 불러오는 함수입니다.\n",
    "\n",
    "\n",
    "- driver.get()은 selenium이 제어하고 있는 chromedriver가 해당 URL로 접속하게 하는 함수입니다.\n",
    "\n",
    "\n",
    "- 여기서 또 문제점이 발생합니다. 지역별 검색 페이지에 접속해서 해당 URL로 driver.get()을 시도해도 메인페이지로 접속이 되는 문제입니다. 이런 경우는 해당 웹페이지 관리자가 다른 subpage들도 direct로 접속하지 못하게 메인페이지로 자동 redirection을 만들어 놓은 경우입니다.\n",
    "\n",
    "\n",
    "- 이를 해결하기 위해 메인페이지에 먼저 접속한 뒤에, 지역별 페이지로 들어갑니다.\n",
    "\n",
    "\n",
    "- Opinet 코드를 살펴보니 이 기능이 javascript 함수를 호출하는 것으로 되어 있습니다.\n",
    "\n",
    "\n",
    "- selenium에서는 execute_script() 함수가 이를 지원하기 때문에 execute_script(\"goSubPage(0,0,99)\")를 이용하여 해당 페이지에 접속합니다."
   ]
  },
  {
   "cell_type": "markdown",
   "metadata": {},
   "source": [
    "![redirection](./webcrawling/opinet_redirection.png)"
   ]
  },
  {
   "cell_type": "code",
   "execution_count": null,
   "metadata": {},
   "outputs": [],
   "source": [
    "# 해당 경로에 있는 chromedriver를 불러옵니다.\n",
    "from selenium import webdriver\n",
    "import time\n",
    "# opinet.co.kr에 접속합니다.\n",
    "\n",
    "\n",
    "# 2초 쉽니다. (페이지 로딩을 위해)\n",
    "\n",
    "# 메인 페이지에서 유가 가격 검색 페이지로 이동합니다. javascript를 활용합니다.\n"
   ]
  },
  {
   "cell_type": "markdown",
   "metadata": {},
   "source": [
    "- selenium에서 특정 웹페이지 원소를 접근하는 방법이 여러가지가 있습니다.\n",
    "\n",
    "\n",
    "**1) find_element_by_tag_name**\n",
    "\n",
    "\n",
    "**2) find_element_by_selector**\n",
    "\n",
    "\n",
    "**3) find_element_by_xpath**\n",
    "\n",
    "\n",
    "**4) find_element_by_id**\n",
    "\n",
    "\n",
    "각자 취향에 맞게 선택할 수 있습니다. 때에 따라 CSS selector만 선택해야 할때가 있고, xpath만 선택해야할 때가 있는데 이는 복잡한 문제이므로 넘어가겠습니다.\n",
    "\n",
    "보통은 xpath로 일단 시도해본 뒤, 안되면 CSS selector나 tag name으로 시도해보면 좋습니다.\n",
    "\n",
    "\n",
    "- 우선 우리는 지역목록을 가져와야 합니다.\n",
    "\n",
    "\n",
    "- 이는 페이지에 drop-down 메뉴를 선택하여 해당 목록을 가져온 뒤, 하나하나 눌러서 접속해야 합니다.\n",
    "\n",
    "\n",
    "- 지역에서 처음에 \"도\"를 고르고 그 뒤에 \"구\"를 고른 뒤에 \"조회\" 버튼을 누르면 해당 정보를 가져올 수 있습니다\n",
    "\n",
    "\n",
    "- 정보를 제대로 가져왔는지는 가운데 있는 지도가 제대로 로드가 되었는지 확인해보면 됩니다. (초반 몇 개만)"
   ]
  },
  {
   "cell_type": "markdown",
   "metadata": {},
   "source": [
    "![get_price](./webcrawling/opinet_get_price.png)"
   ]
  },
  {
   "cell_type": "code",
   "execution_count": null,
   "metadata": {},
   "outputs": [],
   "source": [
    "# 앞서 배웠던 방식으로 xpath를 얻어옵니다.\n",
    "\n",
    "# 앞서 배웠던 방식으로 tag을 찾아서 가져옵니다.\n",
    "\n",
    "# tag에서 value들을 하나씩 뽑아냅니다.\n"
   ]
  },
  {
   "cell_type": "markdown",
   "metadata": {},
   "source": [
    "- 이제 시도에 대한 정보를 얻었으니, 시/군/구도 동일한 방식으로 얻어오도록 합니다!"
   ]
  },
  {
   "cell_type": "code",
   "execution_count": null,
   "metadata": {},
   "outputs": [],
   "source": [
    "# 시/군/구 목록 수집\n"
   ]
  },
  {
   "cell_type": "code",
   "execution_count": null,
   "metadata": {},
   "outputs": [],
   "source": [
    "# \"조회\" 버튼의 xpath를 찾아서 클릭합니다.\n"
   ]
  },
  {
   "cell_type": "code",
   "execution_count": null,
   "metadata": {},
   "outputs": [],
   "source": [
    "# \"엑셀저장\" 버튼의 xpath를 찾아서 클릭합니다.\n"
   ]
  },
  {
   "cell_type": "markdown",
   "metadata": {},
   "source": [
    "### 모두 종합해서 하나의 코드로 만들어봅시다!"
   ]
  },
  {
   "cell_type": "code",
   "execution_count": null,
   "metadata": {},
   "outputs": [],
   "source": [
    "# 종합선물세트\n",
    "\n",
    "# 1. webdriver를 킨다.\n",
    "# 2. 지역별 주유소 찾기 접속\n",
    "# 3. sido 목록을 가져온다.\n",
    "# 4. 원하는 지역으로 이동한다.\n",
    "# 5. 시/군/구 목록을 가져온다.\n",
    "# 6. 얻어온 목록으로 반복문을 수행하면서, 조회를 누르고 엑셀저장을 누른다."
   ]
  },
  {
   "cell_type": "code",
   "execution_count": null,
   "metadata": {},
   "outputs": [],
   "source": []
  }
 ],
 "metadata": {
  "kernelspec": {
   "display_name": "Python 3 (ipykernel)",
   "language": "python",
   "name": "python3"
  },
  "language_info": {
   "codemirror_mode": {
    "name": "ipython",
    "version": 3
   },
   "file_extension": ".py",
   "mimetype": "text/x-python",
   "name": "python",
   "nbconvert_exporter": "python",
   "pygments_lexer": "ipython3",
   "version": "3.10.5"
  }
 },
 "nbformat": 4,
 "nbformat_minor": 1
}
