{
 "cells": [
  {
   "cell_type": "markdown",
   "metadata": {},
   "source": [
    "### 이번 실습에서는 다음 내용들을 배웁니다.\n",
    "\n",
    "\n",
    "- 웹크롤러를 제작하기 위해서 크롤링 페이지 규칙을 만드는 방법에 대해서 배웁니다.\n",
    "\n",
    "- 시세 정보를 가져오기 위해 Naver에서 국내증시, 해외증시를 크롤링하는 코드를 작성해봅니다.\n",
    "\n",
    "\n",
    "- 이번 강의를 통해 beautifulsoup4의 사용법과 webpage 구조, HTML에 대해 이해하고 실제 네트워크 환경에 대해 이해합니다."
   ]
  },
  {
   "cell_type": "markdown",
   "metadata": {},
   "source": [
    "## 1.1 원하는 웹페이지 선정하기"
   ]
  },
  {
   "cell_type": "markdown",
   "metadata": {},
   "source": [
    "- 크롤링할 페이지를 선정하는 일은 매우 중요합니다. 웹페이지의 구조를 이해하기 위해서는 많은 지식이 필요하지만, 실전 크롤러 구현을 위주로 생각하고 이론은 간단하게 합니다.\n",
    "\n",
    "\n",
    "- 코스피200 페이지에서 일별시세를 크롤링해서 데이터 분석에 활용하고 싶습니다. (정확한 task가 있을수록 좋습니다)\n",
    "\n",
    "\n",
    "- **일별시세에 대한 데이터 분석을 하기 위해서는 날짜와 체결가 두 가지의 정보가 필요합니다.**\n",
    "\n",
    "\n",
    "- 코스피200은 국내시세이므로, Naver 금융에서 데이터를 얻어오고자 합니다.\n",
    "\n",
    "\n",
    "- 크롤링할 대상 홈페이지를 정했으니, 웹크롤링이란 어떤 데이터를 가져오는지 생각해봅니다."
   ]
  },
  {
   "cell_type": "markdown",
   "metadata": {},
   "source": [
    "![naver_sise](webcrawling/naver_sise.png)"
   ]
  },
  {
   "cell_type": "markdown",
   "metadata": {},
   "source": [
    "> 현재 페이지는 한 가지 문제가 있습니다. 실제로 해당 페이지 소스를 보면 일별시세 관련 내용이 없습니다.\n",
    "\n",
    "> 이것을 바로 알 수 있는 방법은 없습니다. 경험을 통해 확인하는데, 네이버 금융 페이지는 Frame Source라는 것으로 웹페이지를 여러 부분으로 관리하고 있습니다.\n",
    "\n",
    "> 원하는 데이터를 얻기 위해서 해당 부분에서 Frame Source를 가져옵니다."
   ]
  },
  {
   "cell_type": "markdown",
   "metadata": {},
   "source": [
    "![naver_frame](webcrawling/naver_frame.png)"
   ]
  },
  {
   "cell_type": "markdown",
   "metadata": {},
   "source": [
    "- frame source 페이지에 들어가서 URL에서 우리가 필요한 URL만 긁어옵니다. http: 이하 내용이 필요한 주소입니다.\n",
    "\n",
    "(자세히 보시면 주소가 조금 다릅니다. 이런 식으로 네이버 페이지들은 HTML 소스들을 따로 관리합니다.)"
   ]
  },
  {
   "cell_type": "markdown",
   "metadata": {},
   "source": [
    "![frame_url](webcrawling/frame_url.png)"
   ]
  },
  {
   "cell_type": "code",
   "execution_count": 3,
   "metadata": {},
   "outputs": [
    {
     "data": {
      "text/plain": [
       "'https://finance.naver.com/sise/sise_index_day.naver?code=KPI200&page=1'"
      ]
     },
     "execution_count": 3,
     "metadata": {},
     "output_type": "execute_result"
    }
   ],
   "source": [
    "page_no = 1\n",
    "page_url = f\"https://finance.naver.com/sise/sise_index_day.naver?code=KPI200&page={page_no}\"\n",
    "page_url"
   ]
  },
  {
   "cell_type": "code",
   "execution_count": null,
   "metadata": {},
   "outputs": [],
   "source": []
  }
 ],
 "metadata": {
  "kernelspec": {
   "display_name": "Python 3 (ipykernel)",
   "language": "python",
   "name": "python3"
  },
  "language_info": {
   "codemirror_mode": {
    "name": "ipython",
    "version": 3
   },
   "file_extension": ".py",
   "mimetype": "text/x-python",
   "name": "python",
   "nbconvert_exporter": "python",
   "pygments_lexer": "ipython3",
   "version": "3.10.9"
  }
 },
 "nbformat": 4,
 "nbformat_minor": 2
}
